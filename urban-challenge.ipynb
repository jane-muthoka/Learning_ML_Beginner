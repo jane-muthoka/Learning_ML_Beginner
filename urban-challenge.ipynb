{
 "cells": [
  {
   "cell_type": "code",
   "execution_count": 1,
   "id": "91872aa1",
   "metadata": {
    "_cell_guid": "b1076dfc-b9ad-4769-8c92-a6c4dae69d19",
    "_uuid": "8f2839f25d086af736a60e9eeb907d3b93b6e0e5",
    "execution": {
     "iopub.execute_input": "2023-06-17T07:08:30.256596Z",
     "iopub.status.busy": "2023-06-17T07:08:30.256154Z",
     "iopub.status.idle": "2023-06-17T07:08:30.300856Z",
     "shell.execute_reply": "2023-06-17T07:08:30.299746Z"
    },
    "papermill": {
     "duration": 0.065262,
     "end_time": "2023-06-17T07:08:30.303838",
     "exception": false,
     "start_time": "2023-06-17T07:08:30.238576",
     "status": "completed"
    },
    "tags": []
   },
   "outputs": [
    {
     "name": "stdout",
     "output_type": "stream",
     "text": [
      "/kaggle/input/urban-air-pollution/SampleSubmission.csv\n",
      "/kaggle/input/urban-air-pollution/Train.csv\n",
      "/kaggle/input/urban-air-pollution/Test.csv\n"
     ]
    }
   ],
   "source": [
    "# This Python 3 environment comes with many helpful analytics libraries installed\n",
    "# It is defined by the kaggle/python Docker image: https://github.com/kaggle/docker-python\n",
    "# For example, here's several helpful packages to load\n",
    "\n",
    "import numpy as np # linear algebra\n",
    "import pandas as pd # data processing, CSV file I/O (e.g. pd.read_csv)\n",
    "\n",
    "# Input data files are available in the read-only \"../input/\" directory\n",
    "# For example, running this (by clicking run or pressing Shift+Enter) will list all files under the input directory\n",
    "\n",
    "import os\n",
    "for dirname, _, filenames in os.walk('/kaggle/input'):\n",
    "    for filename in filenames:\n",
    "        print(os.path.join(dirname, filename))\n",
    "\n",
    "# You can write up to 20GB to the current directory (/kaggle/working/) that gets preserved as output when you create a version using \"Save & Run All\" \n",
    "# You can also write temporary files to /kaggle/temp/, but they won't be saved outside of the current session"
   ]
  },
  {
   "cell_type": "code",
   "execution_count": 2,
   "id": "7a54930c",
   "metadata": {
    "execution": {
     "iopub.execute_input": "2023-06-17T07:08:30.330699Z",
     "iopub.status.busy": "2023-06-17T07:08:30.330211Z",
     "iopub.status.idle": "2023-06-17T07:08:30.335700Z",
     "shell.execute_reply": "2023-06-17T07:08:30.334526Z"
    },
    "papermill": {
     "duration": 0.021816,
     "end_time": "2023-06-17T07:08:30.338255",
     "exception": false,
     "start_time": "2023-06-17T07:08:30.316439",
     "status": "completed"
    },
    "tags": []
   },
   "outputs": [],
   "source": [
    "import pandas as pd"
   ]
  },
  {
   "cell_type": "code",
   "execution_count": 3,
   "id": "0f9cdc70",
   "metadata": {
    "execution": {
     "iopub.execute_input": "2023-06-17T07:08:30.364891Z",
     "iopub.status.busy": "2023-06-17T07:08:30.364507Z",
     "iopub.status.idle": "2023-06-17T07:08:31.973073Z",
     "shell.execute_reply": "2023-06-17T07:08:31.971910Z"
    },
    "papermill": {
     "duration": 1.625379,
     "end_time": "2023-06-17T07:08:31.976153",
     "exception": false,
     "start_time": "2023-06-17T07:08:30.350774",
     "status": "completed"
    },
    "tags": []
   },
   "outputs": [],
   "source": [
    "df= pd.read_csv('/kaggle/input/urban-air-pollution/Train.csv')\n",
    "test=pd.read_csv('/kaggle/input/urban-air-pollution/Test.csv')\n",
    "ss= pd.read_csv('/kaggle/input/urban-air-pollution/SampleSubmission.csv')"
   ]
  },
  {
   "cell_type": "code",
   "execution_count": 4,
   "id": "19b42d71",
   "metadata": {
    "execution": {
     "iopub.execute_input": "2023-06-17T07:08:32.003445Z",
     "iopub.status.busy": "2023-06-17T07:08:32.002705Z",
     "iopub.status.idle": "2023-06-17T07:08:32.339775Z",
     "shell.execute_reply": "2023-06-17T07:08:32.338754Z"
    },
    "papermill": {
     "duration": 0.35395,
     "end_time": "2023-06-17T07:08:32.342547",
     "exception": false,
     "start_time": "2023-06-17T07:08:31.988597",
     "status": "completed"
    },
    "tags": []
   },
   "outputs": [],
   "source": [
    "Test=pd.read_csv('/kaggle/input/urban-air-pollution/Test.csv')"
   ]
  },
  {
   "cell_type": "code",
   "execution_count": 5,
   "id": "9cf92298",
   "metadata": {
    "execution": {
     "iopub.execute_input": "2023-06-17T07:08:32.370507Z",
     "iopub.status.busy": "2023-06-17T07:08:32.369783Z",
     "iopub.status.idle": "2023-06-17T07:08:32.421079Z",
     "shell.execute_reply": "2023-06-17T07:08:32.419948Z"
    },
    "papermill": {
     "duration": 0.068316,
     "end_time": "2023-06-17T07:08:32.423899",
     "exception": false,
     "start_time": "2023-06-17T07:08:32.355583",
     "status": "completed"
    },
    "tags": []
   },
   "outputs": [
    {
     "data": {
      "text/html": [
       "<div>\n",
       "<style scoped>\n",
       "    .dataframe tbody tr th:only-of-type {\n",
       "        vertical-align: middle;\n",
       "    }\n",
       "\n",
       "    .dataframe tbody tr th {\n",
       "        vertical-align: top;\n",
       "    }\n",
       "\n",
       "    .dataframe thead th {\n",
       "        text-align: right;\n",
       "    }\n",
       "</style>\n",
       "<table border=\"1\" class=\"dataframe\">\n",
       "  <thead>\n",
       "    <tr style=\"text-align: right;\">\n",
       "      <th></th>\n",
       "      <th>Place_ID X Date</th>\n",
       "      <th>Date</th>\n",
       "      <th>Place_ID</th>\n",
       "      <th>target</th>\n",
       "      <th>target_min</th>\n",
       "      <th>target_max</th>\n",
       "      <th>target_variance</th>\n",
       "      <th>target_count</th>\n",
       "      <th>precipitable_water_entire_atmosphere</th>\n",
       "      <th>relative_humidity_2m_above_ground</th>\n",
       "      <th>...</th>\n",
       "      <th>L3_SO2_sensor_zenith_angle</th>\n",
       "      <th>L3_SO2_solar_azimuth_angle</th>\n",
       "      <th>L3_SO2_solar_zenith_angle</th>\n",
       "      <th>L3_CH4_CH4_column_volume_mixing_ratio_dry_air</th>\n",
       "      <th>L3_CH4_aerosol_height</th>\n",
       "      <th>L3_CH4_aerosol_optical_depth</th>\n",
       "      <th>L3_CH4_sensor_azimuth_angle</th>\n",
       "      <th>L3_CH4_sensor_zenith_angle</th>\n",
       "      <th>L3_CH4_solar_azimuth_angle</th>\n",
       "      <th>L3_CH4_solar_zenith_angle</th>\n",
       "    </tr>\n",
       "  </thead>\n",
       "  <tbody>\n",
       "    <tr>\n",
       "      <th>30552</th>\n",
       "      <td>YWSFY6Q X 2020-03-15</td>\n",
       "      <td>2020-03-15</td>\n",
       "      <td>YWSFY6Q</td>\n",
       "      <td>22.0</td>\n",
       "      <td>14.0</td>\n",
       "      <td>83.0</td>\n",
       "      <td>3848.86</td>\n",
       "      <td>72</td>\n",
       "      <td>6.7</td>\n",
       "      <td>68.300003</td>\n",
       "      <td>...</td>\n",
       "      <td>54.302954</td>\n",
       "      <td>12.312248</td>\n",
       "      <td>49.871571</td>\n",
       "      <td>NaN</td>\n",
       "      <td>NaN</td>\n",
       "      <td>NaN</td>\n",
       "      <td>NaN</td>\n",
       "      <td>NaN</td>\n",
       "      <td>NaN</td>\n",
       "      <td>NaN</td>\n",
       "    </tr>\n",
       "    <tr>\n",
       "      <th>30553</th>\n",
       "      <td>YWSFY6Q X 2020-03-16</td>\n",
       "      <td>2020-03-16</td>\n",
       "      <td>YWSFY6Q</td>\n",
       "      <td>53.0</td>\n",
       "      <td>30.0</td>\n",
       "      <td>146.0</td>\n",
       "      <td>9823.87</td>\n",
       "      <td>72</td>\n",
       "      <td>6.3</td>\n",
       "      <td>77.700005</td>\n",
       "      <td>...</td>\n",
       "      <td>36.170757</td>\n",
       "      <td>-129.236726</td>\n",
       "      <td>49.779531</td>\n",
       "      <td>1863.555567</td>\n",
       "      <td>3475.020107</td>\n",
       "      <td>0.05292</td>\n",
       "      <td>-96.149506</td>\n",
       "      <td>33.230234</td>\n",
       "      <td>-157.067467</td>\n",
       "      <td>49.91231</td>\n",
       "    </tr>\n",
       "    <tr>\n",
       "      <th>30554</th>\n",
       "      <td>YWSFY6Q X 2020-03-17</td>\n",
       "      <td>2020-03-17</td>\n",
       "      <td>YWSFY6Q</td>\n",
       "      <td>85.0</td>\n",
       "      <td>52.0</td>\n",
       "      <td>153.0</td>\n",
       "      <td>8900.85</td>\n",
       "      <td>72</td>\n",
       "      <td>7.1</td>\n",
       "      <td>68.500000</td>\n",
       "      <td>...</td>\n",
       "      <td>8.955216</td>\n",
       "      <td>-162.856069</td>\n",
       "      <td>48.459205</td>\n",
       "      <td>NaN</td>\n",
       "      <td>NaN</td>\n",
       "      <td>NaN</td>\n",
       "      <td>NaN</td>\n",
       "      <td>NaN</td>\n",
       "      <td>NaN</td>\n",
       "      <td>NaN</td>\n",
       "    </tr>\n",
       "    <tr>\n",
       "      <th>30555</th>\n",
       "      <td>YWSFY6Q X 2020-03-18</td>\n",
       "      <td>2020-03-18</td>\n",
       "      <td>YWSFY6Q</td>\n",
       "      <td>103.0</td>\n",
       "      <td>33.0</td>\n",
       "      <td>149.0</td>\n",
       "      <td>13963.90</td>\n",
       "      <td>72</td>\n",
       "      <td>19.1</td>\n",
       "      <td>66.300003</td>\n",
       "      <td>...</td>\n",
       "      <td>17.974815</td>\n",
       "      <td>-168.906764</td>\n",
       "      <td>47.293537</td>\n",
       "      <td>NaN</td>\n",
       "      <td>NaN</td>\n",
       "      <td>NaN</td>\n",
       "      <td>NaN</td>\n",
       "      <td>NaN</td>\n",
       "      <td>NaN</td>\n",
       "      <td>NaN</td>\n",
       "    </tr>\n",
       "    <tr>\n",
       "      <th>30556</th>\n",
       "      <td>YWSFY6Q X 2020-03-19</td>\n",
       "      <td>2020-03-19</td>\n",
       "      <td>YWSFY6Q</td>\n",
       "      <td>89.0</td>\n",
       "      <td>46.0</td>\n",
       "      <td>132.0</td>\n",
       "      <td>9393.64</td>\n",
       "      <td>72</td>\n",
       "      <td>11.6</td>\n",
       "      <td>68.400002</td>\n",
       "      <td>...</td>\n",
       "      <td>NaN</td>\n",
       "      <td>NaN</td>\n",
       "      <td>NaN</td>\n",
       "      <td>NaN</td>\n",
       "      <td>NaN</td>\n",
       "      <td>NaN</td>\n",
       "      <td>NaN</td>\n",
       "      <td>NaN</td>\n",
       "      <td>NaN</td>\n",
       "      <td>NaN</td>\n",
       "    </tr>\n",
       "  </tbody>\n",
       "</table>\n",
       "<p>5 rows × 82 columns</p>\n",
       "</div>"
      ],
      "text/plain": [
       "            Place_ID X Date        Date Place_ID  target  target_min  \\\n",
       "30552  YWSFY6Q X 2020-03-15  2020-03-15  YWSFY6Q    22.0        14.0   \n",
       "30553  YWSFY6Q X 2020-03-16  2020-03-16  YWSFY6Q    53.0        30.0   \n",
       "30554  YWSFY6Q X 2020-03-17  2020-03-17  YWSFY6Q    85.0        52.0   \n",
       "30555  YWSFY6Q X 2020-03-18  2020-03-18  YWSFY6Q   103.0        33.0   \n",
       "30556  YWSFY6Q X 2020-03-19  2020-03-19  YWSFY6Q    89.0        46.0   \n",
       "\n",
       "       target_max  target_variance  target_count  \\\n",
       "30552        83.0          3848.86            72   \n",
       "30553       146.0          9823.87            72   \n",
       "30554       153.0          8900.85            72   \n",
       "30555       149.0         13963.90            72   \n",
       "30556       132.0          9393.64            72   \n",
       "\n",
       "       precipitable_water_entire_atmosphere  \\\n",
       "30552                                   6.7   \n",
       "30553                                   6.3   \n",
       "30554                                   7.1   \n",
       "30555                                  19.1   \n",
       "30556                                  11.6   \n",
       "\n",
       "       relative_humidity_2m_above_ground  ...  L3_SO2_sensor_zenith_angle  \\\n",
       "30552                          68.300003  ...                   54.302954   \n",
       "30553                          77.700005  ...                   36.170757   \n",
       "30554                          68.500000  ...                    8.955216   \n",
       "30555                          66.300003  ...                   17.974815   \n",
       "30556                          68.400002  ...                         NaN   \n",
       "\n",
       "       L3_SO2_solar_azimuth_angle  L3_SO2_solar_zenith_angle  \\\n",
       "30552                   12.312248                  49.871571   \n",
       "30553                 -129.236726                  49.779531   \n",
       "30554                 -162.856069                  48.459205   \n",
       "30555                 -168.906764                  47.293537   \n",
       "30556                         NaN                        NaN   \n",
       "\n",
       "       L3_CH4_CH4_column_volume_mixing_ratio_dry_air  L3_CH4_aerosol_height  \\\n",
       "30552                                            NaN                    NaN   \n",
       "30553                                    1863.555567            3475.020107   \n",
       "30554                                            NaN                    NaN   \n",
       "30555                                            NaN                    NaN   \n",
       "30556                                            NaN                    NaN   \n",
       "\n",
       "       L3_CH4_aerosol_optical_depth  L3_CH4_sensor_azimuth_angle  \\\n",
       "30552                           NaN                          NaN   \n",
       "30553                       0.05292                   -96.149506   \n",
       "30554                           NaN                          NaN   \n",
       "30555                           NaN                          NaN   \n",
       "30556                           NaN                          NaN   \n",
       "\n",
       "       L3_CH4_sensor_zenith_angle  L3_CH4_solar_azimuth_angle  \\\n",
       "30552                         NaN                         NaN   \n",
       "30553                   33.230234                 -157.067467   \n",
       "30554                         NaN                         NaN   \n",
       "30555                         NaN                         NaN   \n",
       "30556                         NaN                         NaN   \n",
       "\n",
       "       L3_CH4_solar_zenith_angle  \n",
       "30552                        NaN  \n",
       "30553                   49.91231  \n",
       "30554                        NaN  \n",
       "30555                        NaN  \n",
       "30556                        NaN  \n",
       "\n",
       "[5 rows x 82 columns]"
      ]
     },
     "execution_count": 5,
     "metadata": {},
     "output_type": "execute_result"
    }
   ],
   "source": [
    "df.tail()"
   ]
  },
  {
   "cell_type": "code",
   "execution_count": null,
   "id": "f1b99050",
   "metadata": {
    "papermill": {
     "duration": 0.012691,
     "end_time": "2023-06-17T07:08:32.449633",
     "exception": false,
     "start_time": "2023-06-17T07:08:32.436942",
     "status": "completed"
    },
    "tags": []
   },
   "outputs": [],
   "source": []
  },
  {
   "cell_type": "markdown",
   "id": "b9bc812f",
   "metadata": {
    "papermill": {
     "duration": 0.013195,
     "end_time": "2023-06-17T07:08:32.475943",
     "exception": false,
     "start_time": "2023-06-17T07:08:32.462748",
     "status": "completed"
    },
    "tags": []
   },
   "source": [
    "EDA"
   ]
  },
  {
   "cell_type": "code",
   "execution_count": 6,
   "id": "7ef53a0c",
   "metadata": {
    "execution": {
     "iopub.execute_input": "2023-06-17T07:08:32.504358Z",
     "iopub.status.busy": "2023-06-17T07:08:32.503722Z",
     "iopub.status.idle": "2023-06-17T07:08:32.511423Z",
     "shell.execute_reply": "2023-06-17T07:08:32.510348Z"
    },
    "papermill": {
     "duration": 0.024463,
     "end_time": "2023-06-17T07:08:32.513648",
     "exception": false,
     "start_time": "2023-06-17T07:08:32.489185",
     "status": "completed"
    },
    "tags": []
   },
   "outputs": [
    {
     "data": {
      "text/plain": [
       "Index(['Place_ID X Date', 'Date', 'Place_ID', 'target', 'target_min',\n",
       "       'target_max', 'target_variance', 'target_count',\n",
       "       'precipitable_water_entire_atmosphere',\n",
       "       'relative_humidity_2m_above_ground',\n",
       "       'specific_humidity_2m_above_ground', 'temperature_2m_above_ground',\n",
       "       'u_component_of_wind_10m_above_ground',\n",
       "       'v_component_of_wind_10m_above_ground',\n",
       "       'L3_NO2_NO2_column_number_density',\n",
       "       'L3_NO2_NO2_slant_column_number_density',\n",
       "       'L3_NO2_absorbing_aerosol_index', 'L3_NO2_cloud_fraction',\n",
       "       'L3_NO2_sensor_altitude', 'L3_NO2_sensor_azimuth_angle',\n",
       "       'L3_NO2_sensor_zenith_angle', 'L3_NO2_solar_azimuth_angle',\n",
       "       'L3_NO2_solar_zenith_angle',\n",
       "       'L3_NO2_stratospheric_NO2_column_number_density',\n",
       "       'L3_NO2_tropopause_pressure',\n",
       "       'L3_NO2_tropospheric_NO2_column_number_density',\n",
       "       'L3_O3_O3_column_number_density', 'L3_O3_O3_effective_temperature',\n",
       "       'L3_O3_cloud_fraction', 'L3_O3_sensor_azimuth_angle',\n",
       "       'L3_O3_sensor_zenith_angle', 'L3_O3_solar_azimuth_angle',\n",
       "       'L3_O3_solar_zenith_angle', 'L3_CO_CO_column_number_density',\n",
       "       'L3_CO_H2O_column_number_density', 'L3_CO_cloud_height',\n",
       "       'L3_CO_sensor_altitude', 'L3_CO_sensor_azimuth_angle',\n",
       "       'L3_CO_sensor_zenith_angle', 'L3_CO_solar_azimuth_angle',\n",
       "       'L3_CO_solar_zenith_angle', 'L3_HCHO_HCHO_slant_column_number_density',\n",
       "       'L3_HCHO_cloud_fraction', 'L3_HCHO_sensor_azimuth_angle',\n",
       "       'L3_HCHO_sensor_zenith_angle', 'L3_HCHO_solar_azimuth_angle',\n",
       "       'L3_HCHO_solar_zenith_angle',\n",
       "       'L3_HCHO_tropospheric_HCHO_column_number_density',\n",
       "       'L3_HCHO_tropospheric_HCHO_column_number_density_amf',\n",
       "       'L3_CLOUD_cloud_base_height', 'L3_CLOUD_cloud_base_pressure',\n",
       "       'L3_CLOUD_cloud_fraction', 'L3_CLOUD_cloud_optical_depth',\n",
       "       'L3_CLOUD_cloud_top_height', 'L3_CLOUD_cloud_top_pressure',\n",
       "       'L3_CLOUD_sensor_azimuth_angle', 'L3_CLOUD_sensor_zenith_angle',\n",
       "       'L3_CLOUD_solar_azimuth_angle', 'L3_CLOUD_solar_zenith_angle',\n",
       "       'L3_CLOUD_surface_albedo', 'L3_AER_AI_absorbing_aerosol_index',\n",
       "       'L3_AER_AI_sensor_altitude', 'L3_AER_AI_sensor_azimuth_angle',\n",
       "       'L3_AER_AI_sensor_zenith_angle', 'L3_AER_AI_solar_azimuth_angle',\n",
       "       'L3_AER_AI_solar_zenith_angle', 'L3_SO2_SO2_column_number_density',\n",
       "       'L3_SO2_SO2_column_number_density_amf',\n",
       "       'L3_SO2_SO2_slant_column_number_density',\n",
       "       'L3_SO2_absorbing_aerosol_index', 'L3_SO2_cloud_fraction',\n",
       "       'L3_SO2_sensor_azimuth_angle', 'L3_SO2_sensor_zenith_angle',\n",
       "       'L3_SO2_solar_azimuth_angle', 'L3_SO2_solar_zenith_angle',\n",
       "       'L3_CH4_CH4_column_volume_mixing_ratio_dry_air',\n",
       "       'L3_CH4_aerosol_height', 'L3_CH4_aerosol_optical_depth',\n",
       "       'L3_CH4_sensor_azimuth_angle', 'L3_CH4_sensor_zenith_angle',\n",
       "       'L3_CH4_solar_azimuth_angle', 'L3_CH4_solar_zenith_angle'],\n",
       "      dtype='object')"
      ]
     },
     "execution_count": 6,
     "metadata": {},
     "output_type": "execute_result"
    }
   ],
   "source": [
    "df.columns"
   ]
  },
  {
   "cell_type": "code",
   "execution_count": 7,
   "id": "90639345",
   "metadata": {
    "execution": {
     "iopub.execute_input": "2023-06-17T07:08:32.542349Z",
     "iopub.status.busy": "2023-06-17T07:08:32.541667Z",
     "iopub.status.idle": "2023-06-17T07:08:32.584716Z",
     "shell.execute_reply": "2023-06-17T07:08:32.583607Z"
    },
    "papermill": {
     "duration": 0.060267,
     "end_time": "2023-06-17T07:08:32.587123",
     "exception": false,
     "start_time": "2023-06-17T07:08:32.526856",
     "status": "completed"
    },
    "tags": []
   },
   "outputs": [
    {
     "data": {
      "text/plain": [
       "68"
      ]
     },
     "execution_count": 7,
     "metadata": {},
     "output_type": "execute_result"
    }
   ],
   "source": [
    "df.isnull().any().sum()\n",
    "#68 columns with missing values"
   ]
  },
  {
   "cell_type": "code",
   "execution_count": 8,
   "id": "d57d1596",
   "metadata": {
    "execution": {
     "iopub.execute_input": "2023-06-17T07:08:32.616962Z",
     "iopub.status.busy": "2023-06-17T07:08:32.616323Z",
     "iopub.status.idle": "2023-06-17T07:08:32.678809Z",
     "shell.execute_reply": "2023-06-17T07:08:32.677708Z"
    },
    "papermill": {
     "duration": 0.08063,
     "end_time": "2023-06-17T07:08:32.681334",
     "exception": false,
     "start_time": "2023-06-17T07:08:32.600704",
     "status": "completed"
    },
    "tags": []
   },
   "outputs": [
    {
     "name": "stdout",
     "output_type": "stream",
     "text": [
      "<class 'pandas.core.frame.DataFrame'>\n",
      "RangeIndex: 30557 entries, 0 to 30556\n",
      "Data columns (total 82 columns):\n",
      " #   Column                                               Non-Null Count  Dtype  \n",
      "---  ------                                               --------------  -----  \n",
      " 0   Place_ID X Date                                      30557 non-null  object \n",
      " 1   Date                                                 30557 non-null  object \n",
      " 2   Place_ID                                             30557 non-null  object \n",
      " 3   target                                               30557 non-null  float64\n",
      " 4   target_min                                           30557 non-null  float64\n",
      " 5   target_max                                           30557 non-null  float64\n",
      " 6   target_variance                                      30557 non-null  float64\n",
      " 7   target_count                                         30557 non-null  int64  \n",
      " 8   precipitable_water_entire_atmosphere                 30557 non-null  float64\n",
      " 9   relative_humidity_2m_above_ground                    30557 non-null  float64\n",
      " 10  specific_humidity_2m_above_ground                    30557 non-null  float64\n",
      " 11  temperature_2m_above_ground                          30557 non-null  float64\n",
      " 12  u_component_of_wind_10m_above_ground                 30557 non-null  float64\n",
      " 13  v_component_of_wind_10m_above_ground                 30557 non-null  float64\n",
      " 14  L3_NO2_NO2_column_number_density                     28368 non-null  float64\n",
      " 15  L3_NO2_NO2_slant_column_number_density               28368 non-null  float64\n",
      " 16  L3_NO2_absorbing_aerosol_index                       28368 non-null  float64\n",
      " 17  L3_NO2_cloud_fraction                                28368 non-null  float64\n",
      " 18  L3_NO2_sensor_altitude                               28368 non-null  float64\n",
      " 19  L3_NO2_sensor_azimuth_angle                          28367 non-null  float64\n",
      " 20  L3_NO2_sensor_zenith_angle                           28367 non-null  float64\n",
      " 21  L3_NO2_solar_azimuth_angle                           28367 non-null  float64\n",
      " 22  L3_NO2_solar_zenith_angle                            28367 non-null  float64\n",
      " 23  L3_NO2_stratospheric_NO2_column_number_density       28367 non-null  float64\n",
      " 24  L3_NO2_tropopause_pressure                           28367 non-null  float64\n",
      " 25  L3_NO2_tropospheric_NO2_column_number_density        21888 non-null  float64\n",
      " 26  L3_O3_O3_column_number_density                       30274 non-null  float64\n",
      " 27  L3_O3_O3_effective_temperature                       30274 non-null  float64\n",
      " 28  L3_O3_cloud_fraction                                 30274 non-null  float64\n",
      " 29  L3_O3_sensor_azimuth_angle                           30274 non-null  float64\n",
      " 30  L3_O3_sensor_zenith_angle                            30274 non-null  float64\n",
      " 31  L3_O3_solar_azimuth_angle                            30274 non-null  float64\n",
      " 32  L3_O3_solar_zenith_angle                             30274 non-null  float64\n",
      " 33  L3_CO_CO_column_number_density                       25134 non-null  float64\n",
      " 34  L3_CO_H2O_column_number_density                      25134 non-null  float64\n",
      " 35  L3_CO_cloud_height                                   25134 non-null  float64\n",
      " 36  L3_CO_sensor_altitude                                25134 non-null  float64\n",
      " 37  L3_CO_sensor_azimuth_angle                           25134 non-null  float64\n",
      " 38  L3_CO_sensor_zenith_angle                            25134 non-null  float64\n",
      " 39  L3_CO_solar_azimuth_angle                            25134 non-null  float64\n",
      " 40  L3_CO_solar_zenith_angle                             25134 non-null  float64\n",
      " 41  L3_HCHO_HCHO_slant_column_number_density             23132 non-null  float64\n",
      " 42  L3_HCHO_cloud_fraction                               23132 non-null  float64\n",
      " 43  L3_HCHO_sensor_azimuth_angle                         23132 non-null  float64\n",
      " 44  L3_HCHO_sensor_zenith_angle                          23132 non-null  float64\n",
      " 45  L3_HCHO_solar_azimuth_angle                          23132 non-null  float64\n",
      " 46  L3_HCHO_solar_zenith_angle                           23132 non-null  float64\n",
      " 47  L3_HCHO_tropospheric_HCHO_column_number_density      23132 non-null  float64\n",
      " 48  L3_HCHO_tropospheric_HCHO_column_number_density_amf  23132 non-null  float64\n",
      " 49  L3_CLOUD_cloud_base_height                           29035 non-null  float64\n",
      " 50  L3_CLOUD_cloud_base_pressure                         29035 non-null  float64\n",
      " 51  L3_CLOUD_cloud_fraction                              30183 non-null  float64\n",
      " 52  L3_CLOUD_cloud_optical_depth                         29035 non-null  float64\n",
      " 53  L3_CLOUD_cloud_top_height                            29035 non-null  float64\n",
      " 54  L3_CLOUD_cloud_top_pressure                          29035 non-null  float64\n",
      " 55  L3_CLOUD_sensor_azimuth_angle                        30183 non-null  float64\n",
      " 56  L3_CLOUD_sensor_zenith_angle                         30183 non-null  float64\n",
      " 57  L3_CLOUD_solar_azimuth_angle                         30183 non-null  float64\n",
      " 58  L3_CLOUD_solar_zenith_angle                          30183 non-null  float64\n",
      " 59  L3_CLOUD_surface_albedo                              29035 non-null  float64\n",
      " 60  L3_AER_AI_absorbing_aerosol_index                    30360 non-null  float64\n",
      " 61  L3_AER_AI_sensor_altitude                            30360 non-null  float64\n",
      " 62  L3_AER_AI_sensor_azimuth_angle                       30360 non-null  float64\n",
      " 63  L3_AER_AI_sensor_zenith_angle                        30360 non-null  float64\n",
      " 64  L3_AER_AI_solar_azimuth_angle                        30360 non-null  float64\n",
      " 65  L3_AER_AI_solar_zenith_angle                         30360 non-null  float64\n",
      " 66  L3_SO2_SO2_column_number_density                     23320 non-null  float64\n",
      " 67  L3_SO2_SO2_column_number_density_amf                 23320 non-null  float64\n",
      " 68  L3_SO2_SO2_slant_column_number_density               23320 non-null  float64\n",
      " 69  L3_SO2_absorbing_aerosol_index                       23249 non-null  float64\n",
      " 70  L3_SO2_cloud_fraction                                23320 non-null  float64\n",
      " 71  L3_SO2_sensor_azimuth_angle                          23320 non-null  float64\n",
      " 72  L3_SO2_sensor_zenith_angle                           23320 non-null  float64\n",
      " 73  L3_SO2_solar_azimuth_angle                           23320 non-null  float64\n",
      " 74  L3_SO2_solar_zenith_angle                            23320 non-null  float64\n",
      " 75  L3_CH4_CH4_column_volume_mixing_ratio_dry_air        5792 non-null   float64\n",
      " 76  L3_CH4_aerosol_height                                5792 non-null   float64\n",
      " 77  L3_CH4_aerosol_optical_depth                         5792 non-null   float64\n",
      " 78  L3_CH4_sensor_azimuth_angle                          5792 non-null   float64\n",
      " 79  L3_CH4_sensor_zenith_angle                           5792 non-null   float64\n",
      " 80  L3_CH4_solar_azimuth_angle                           5792 non-null   float64\n",
      " 81  L3_CH4_solar_zenith_angle                            5792 non-null   float64\n",
      "dtypes: float64(78), int64(1), object(3)\n",
      "memory usage: 19.1+ MB\n"
     ]
    }
   ],
   "source": [
    "df.info()"
   ]
  },
  {
   "cell_type": "code",
   "execution_count": 9,
   "id": "6d489e8d",
   "metadata": {
    "execution": {
     "iopub.execute_input": "2023-06-17T07:08:32.711346Z",
     "iopub.status.busy": "2023-06-17T07:08:32.710650Z",
     "iopub.status.idle": "2023-06-17T07:08:32.748116Z",
     "shell.execute_reply": "2023-06-17T07:08:32.746833Z"
    },
    "papermill": {
     "duration": 0.055517,
     "end_time": "2023-06-17T07:08:32.751086",
     "exception": false,
     "start_time": "2023-06-17T07:08:32.695569",
     "status": "completed"
    },
    "tags": []
   },
   "outputs": [],
   "source": [
    "means = df[['L3_NO2_NO2_column_number_density',\n",
    "       'L3_NO2_NO2_slant_column_number_density',\n",
    "       'L3_NO2_absorbing_aerosol_index', 'L3_NO2_cloud_fraction',\n",
    "       'L3_NO2_sensor_altitude', 'L3_NO2_sensor_azimuth_angle',\n",
    "       'L3_NO2_sensor_zenith_angle', 'L3_NO2_solar_azimuth_angle',\n",
    "       'L3_NO2_solar_zenith_angle',\n",
    "       'L3_NO2_stratospheric_NO2_column_number_density',\n",
    "       'L3_NO2_tropopause_pressure',\n",
    "       'L3_NO2_tropospheric_NO2_column_number_density',\n",
    "       'L3_O3_O3_column_number_density', 'L3_O3_O3_effective_temperature',\n",
    "       'L3_O3_cloud_fraction', 'L3_O3_sensor_azimuth_angle',\n",
    "       'L3_O3_sensor_zenith_angle', 'L3_O3_solar_azimuth_angle',\n",
    "       'L3_O3_solar_zenith_angle', 'L3_CO_CO_column_number_density',\n",
    "       'L3_CO_H2O_column_number_density', 'L3_CO_cloud_height',\n",
    "       'L3_CO_sensor_altitude', 'L3_CO_sensor_azimuth_angle',\n",
    "       'L3_CO_sensor_zenith_angle', 'L3_CO_solar_azimuth_angle',\n",
    "       'L3_CO_solar_zenith_angle', 'L3_HCHO_HCHO_slant_column_number_density',\n",
    "       'L3_HCHO_cloud_fraction', 'L3_HCHO_sensor_azimuth_angle',\n",
    "       'L3_HCHO_sensor_zenith_angle', 'L3_HCHO_solar_azimuth_angle',\n",
    "       'L3_HCHO_solar_zenith_angle',\n",
    "       'L3_HCHO_tropospheric_HCHO_column_number_density',\n",
    "       'L3_HCHO_tropospheric_HCHO_column_number_density_amf',\n",
    "       'L3_CLOUD_cloud_base_height', 'L3_CLOUD_cloud_base_pressure',\n",
    "       'L3_CLOUD_cloud_fraction', 'L3_CLOUD_cloud_optical_depth',\n",
    "       'L3_CLOUD_cloud_top_height', 'L3_CLOUD_cloud_top_pressure',\n",
    "       'L3_CLOUD_sensor_azimuth_angle', 'L3_CLOUD_sensor_zenith_angle',\n",
    "       'L3_CLOUD_solar_azimuth_angle', 'L3_CLOUD_solar_zenith_angle',\n",
    "       'L3_CLOUD_surface_albedo', 'L3_AER_AI_absorbing_aerosol_index',\n",
    "       'L3_AER_AI_sensor_altitude', 'L3_AER_AI_sensor_azimuth_angle',\n",
    "       'L3_AER_AI_sensor_zenith_angle', 'L3_AER_AI_solar_azimuth_angle',\n",
    "       'L3_AER_AI_solar_zenith_angle', 'L3_SO2_SO2_column_number_density',\n",
    "       'L3_SO2_SO2_column_number_density_amf',\n",
    "       'L3_SO2_SO2_slant_column_number_density',\n",
    "       'L3_SO2_absorbing_aerosol_index', 'L3_SO2_cloud_fraction',\n",
    "       'L3_SO2_sensor_azimuth_angle', 'L3_SO2_sensor_zenith_angle',\n",
    "       'L3_SO2_solar_azimuth_angle', 'L3_SO2_solar_zenith_angle',\n",
    "       'L3_CH4_CH4_column_volume_mixing_ratio_dry_air',\n",
    "       'L3_CH4_aerosol_height', 'L3_CH4_aerosol_optical_depth',\n",
    "       'L3_CH4_sensor_azimuth_angle', 'L3_CH4_sensor_zenith_angle',\n",
    "       'L3_CH4_solar_azimuth_angle', 'L3_CH4_solar_zenith_angle']].mean()\n"
   ]
  },
  {
   "cell_type": "code",
   "execution_count": 10,
   "id": "21270088",
   "metadata": {
    "execution": {
     "iopub.execute_input": "2023-06-17T07:08:32.780244Z",
     "iopub.status.busy": "2023-06-17T07:08:32.779591Z",
     "iopub.status.idle": "2023-06-17T07:08:32.799790Z",
     "shell.execute_reply": "2023-06-17T07:08:32.798898Z"
    },
    "papermill": {
     "duration": 0.037679,
     "end_time": "2023-06-17T07:08:32.802347",
     "exception": false,
     "start_time": "2023-06-17T07:08:32.764668",
     "status": "completed"
    },
    "tags": []
   },
   "outputs": [],
   "source": [
    "means2=Test[['L3_NO2_NO2_column_number_density',\n",
    "       'L3_NO2_NO2_slant_column_number_density',\n",
    "       'L3_NO2_absorbing_aerosol_index', 'L3_NO2_cloud_fraction',\n",
    "       'L3_NO2_sensor_altitude', 'L3_NO2_sensor_azimuth_angle',\n",
    "       'L3_NO2_sensor_zenith_angle', 'L3_NO2_solar_azimuth_angle',\n",
    "       'L3_NO2_solar_zenith_angle',\n",
    "       'L3_NO2_stratospheric_NO2_column_number_density',\n",
    "       'L3_NO2_tropopause_pressure',\n",
    "       'L3_NO2_tropospheric_NO2_column_number_density',\n",
    "       'L3_O3_O3_column_number_density', 'L3_O3_O3_effective_temperature',\n",
    "       'L3_O3_cloud_fraction', 'L3_O3_sensor_azimuth_angle',\n",
    "       'L3_O3_sensor_zenith_angle', 'L3_O3_solar_azimuth_angle',\n",
    "       'L3_O3_solar_zenith_angle', 'L3_CO_CO_column_number_density',\n",
    "       'L3_CO_H2O_column_number_density', 'L3_CO_cloud_height',\n",
    "       'L3_CO_sensor_altitude', 'L3_CO_sensor_azimuth_angle',\n",
    "       'L3_CO_sensor_zenith_angle', 'L3_CO_solar_azimuth_angle',\n",
    "       'L3_CO_solar_zenith_angle', 'L3_HCHO_HCHO_slant_column_number_density',\n",
    "       'L3_HCHO_cloud_fraction', 'L3_HCHO_sensor_azimuth_angle',\n",
    "       'L3_HCHO_sensor_zenith_angle', 'L3_HCHO_solar_azimuth_angle',\n",
    "       'L3_HCHO_solar_zenith_angle',\n",
    "       'L3_HCHO_tropospheric_HCHO_column_number_density',\n",
    "       'L3_HCHO_tropospheric_HCHO_column_number_density_amf',\n",
    "       'L3_CLOUD_cloud_base_height', 'L3_CLOUD_cloud_base_pressure',\n",
    "       'L3_CLOUD_cloud_fraction', 'L3_CLOUD_cloud_optical_depth',\n",
    "       'L3_CLOUD_cloud_top_height', 'L3_CLOUD_cloud_top_pressure',\n",
    "       'L3_CLOUD_sensor_azimuth_angle', 'L3_CLOUD_sensor_zenith_angle',\n",
    "       'L3_CLOUD_solar_azimuth_angle', 'L3_CLOUD_solar_zenith_angle',\n",
    "       'L3_CLOUD_surface_albedo', 'L3_AER_AI_absorbing_aerosol_index',\n",
    "       'L3_AER_AI_sensor_altitude', 'L3_AER_AI_sensor_azimuth_angle',\n",
    "       'L3_AER_AI_sensor_zenith_angle', 'L3_AER_AI_solar_azimuth_angle',\n",
    "       'L3_AER_AI_solar_zenith_angle', 'L3_SO2_SO2_column_number_density',\n",
    "       'L3_SO2_SO2_column_number_density_amf',\n",
    "       'L3_SO2_SO2_slant_column_number_density',\n",
    "       'L3_SO2_absorbing_aerosol_index', 'L3_SO2_cloud_fraction',\n",
    "       'L3_SO2_sensor_azimuth_angle', 'L3_SO2_sensor_zenith_angle',\n",
    "       'L3_SO2_solar_azimuth_angle', 'L3_SO2_solar_zenith_angle',\n",
    "       'L3_CH4_CH4_column_volume_mixing_ratio_dry_air',\n",
    "       'L3_CH4_aerosol_height', 'L3_CH4_aerosol_optical_depth',\n",
    "       'L3_CH4_sensor_azimuth_angle', 'L3_CH4_sensor_zenith_angle',\n",
    "       'L3_CH4_solar_azimuth_angle', 'L3_CH4_solar_zenith_angle']].mean()"
   ]
  },
  {
   "cell_type": "code",
   "execution_count": null,
   "id": "ec71ebc6",
   "metadata": {
    "papermill": {
     "duration": 0.013033,
     "end_time": "2023-06-17T07:08:32.829024",
     "exception": false,
     "start_time": "2023-06-17T07:08:32.815991",
     "status": "completed"
    },
    "tags": []
   },
   "outputs": [],
   "source": []
  },
  {
   "cell_type": "code",
   "execution_count": 11,
   "id": "437b30c4",
   "metadata": {
    "execution": {
     "iopub.execute_input": "2023-06-17T07:08:32.858193Z",
     "iopub.status.busy": "2023-06-17T07:08:32.857524Z",
     "iopub.status.idle": "2023-06-17T07:08:33.227131Z",
     "shell.execute_reply": "2023-06-17T07:08:33.225707Z"
    },
    "papermill": {
     "duration": 0.387549,
     "end_time": "2023-06-17T07:08:33.230050",
     "exception": false,
     "start_time": "2023-06-17T07:08:32.842501",
     "status": "completed"
    },
    "tags": []
   },
   "outputs": [],
   "source": [
    "df[['L3_NO2_NO2_column_number_density',\n",
    "       'L3_NO2_NO2_slant_column_number_density',\n",
    "       'L3_NO2_absorbing_aerosol_index', 'L3_NO2_cloud_fraction',\n",
    "       'L3_NO2_sensor_altitude', 'L3_NO2_sensor_azimuth_angle',\n",
    "       'L3_NO2_sensor_zenith_angle', 'L3_NO2_solar_azimuth_angle',\n",
    "       'L3_NO2_solar_zenith_angle',\n",
    "       'L3_NO2_stratospheric_NO2_column_number_density',\n",
    "       'L3_NO2_tropopause_pressure',\n",
    "       'L3_NO2_tropospheric_NO2_column_number_density',\n",
    "       'L3_O3_O3_column_number_density', 'L3_O3_O3_effective_temperature',\n",
    "       'L3_O3_cloud_fraction', 'L3_O3_sensor_azimuth_angle',\n",
    "       'L3_O3_sensor_zenith_angle', 'L3_O3_solar_azimuth_angle',\n",
    "       'L3_O3_solar_zenith_angle', 'L3_CO_CO_column_number_density',\n",
    "       'L3_CO_H2O_column_number_density', 'L3_CO_cloud_height',\n",
    "       'L3_CO_sensor_altitude', 'L3_CO_sensor_azimuth_angle',\n",
    "       'L3_CO_sensor_zenith_angle', 'L3_CO_solar_azimuth_angle',\n",
    "       'L3_CO_solar_zenith_angle', 'L3_HCHO_HCHO_slant_column_number_density',\n",
    "       'L3_HCHO_cloud_fraction', 'L3_HCHO_sensor_azimuth_angle',\n",
    "       'L3_HCHO_sensor_zenith_angle', 'L3_HCHO_solar_azimuth_angle',\n",
    "       'L3_HCHO_solar_zenith_angle',\n",
    "       'L3_HCHO_tropospheric_HCHO_column_number_density',\n",
    "       'L3_HCHO_tropospheric_HCHO_column_number_density_amf',\n",
    "       'L3_CLOUD_cloud_base_height', 'L3_CLOUD_cloud_base_pressure',\n",
    "       'L3_CLOUD_cloud_fraction', 'L3_CLOUD_cloud_optical_depth',\n",
    "       'L3_CLOUD_cloud_top_height', 'L3_CLOUD_cloud_top_pressure',\n",
    "       'L3_CLOUD_sensor_azimuth_angle', 'L3_CLOUD_sensor_zenith_angle',\n",
    "       'L3_CLOUD_solar_azimuth_angle', 'L3_CLOUD_solar_zenith_angle',\n",
    "       'L3_CLOUD_surface_albedo', 'L3_AER_AI_absorbing_aerosol_index',\n",
    "       'L3_AER_AI_sensor_altitude', 'L3_AER_AI_sensor_azimuth_angle',\n",
    "       'L3_AER_AI_sensor_zenith_angle', 'L3_AER_AI_solar_azimuth_angle',\n",
    "       'L3_AER_AI_solar_zenith_angle', 'L3_SO2_SO2_column_number_density',\n",
    "       'L3_SO2_SO2_column_number_density_amf',\n",
    "       'L3_SO2_SO2_slant_column_number_density',\n",
    "       'L3_SO2_absorbing_aerosol_index', 'L3_SO2_cloud_fraction',\n",
    "       'L3_SO2_sensor_azimuth_angle', 'L3_SO2_sensor_zenith_angle',\n",
    "       'L3_SO2_solar_azimuth_angle', 'L3_SO2_solar_zenith_angle',\n",
    "       'L3_CH4_CH4_column_volume_mixing_ratio_dry_air',\n",
    "       'L3_CH4_aerosol_height', 'L3_CH4_aerosol_optical_depth',\n",
    "       'L3_CH4_sensor_azimuth_angle', 'L3_CH4_sensor_zenith_angle',\n",
    "       'L3_CH4_solar_azimuth_angle', 'L3_CH4_solar_zenith_angle']] = df[['L3_NO2_NO2_column_number_density',\n",
    "       'L3_NO2_NO2_slant_column_number_density',\n",
    "       'L3_NO2_absorbing_aerosol_index', 'L3_NO2_cloud_fraction',\n",
    "       'L3_NO2_sensor_altitude', 'L3_NO2_sensor_azimuth_angle',\n",
    "       'L3_NO2_sensor_zenith_angle', 'L3_NO2_solar_azimuth_angle',\n",
    "       'L3_NO2_solar_zenith_angle',\n",
    "       'L3_NO2_stratospheric_NO2_column_number_density',\n",
    "       'L3_NO2_tropopause_pressure',\n",
    "       'L3_NO2_tropospheric_NO2_column_number_density',\n",
    "       'L3_O3_O3_column_number_density', 'L3_O3_O3_effective_temperature',\n",
    "       'L3_O3_cloud_fraction', 'L3_O3_sensor_azimuth_angle',\n",
    "       'L3_O3_sensor_zenith_angle', 'L3_O3_solar_azimuth_angle',\n",
    "       'L3_O3_solar_zenith_angle', 'L3_CO_CO_column_number_density',\n",
    "       'L3_CO_H2O_column_number_density', 'L3_CO_cloud_height',\n",
    "       'L3_CO_sensor_altitude', 'L3_CO_sensor_azimuth_angle',\n",
    "       'L3_CO_sensor_zenith_angle', 'L3_CO_solar_azimuth_angle',\n",
    "       'L3_CO_solar_zenith_angle', 'L3_HCHO_HCHO_slant_column_number_density',\n",
    "       'L3_HCHO_cloud_fraction', 'L3_HCHO_sensor_azimuth_angle',\n",
    "       'L3_HCHO_sensor_zenith_angle', 'L3_HCHO_solar_azimuth_angle',\n",
    "       'L3_HCHO_solar_zenith_angle',\n",
    "       'L3_HCHO_tropospheric_HCHO_column_number_density',\n",
    "       'L3_HCHO_tropospheric_HCHO_column_number_density_amf',\n",
    "       'L3_CLOUD_cloud_base_height', 'L3_CLOUD_cloud_base_pressure',\n",
    "       'L3_CLOUD_cloud_fraction', 'L3_CLOUD_cloud_optical_depth',\n",
    "       'L3_CLOUD_cloud_top_height', 'L3_CLOUD_cloud_top_pressure',\n",
    "       'L3_CLOUD_sensor_azimuth_angle', 'L3_CLOUD_sensor_zenith_angle',\n",
    "       'L3_CLOUD_solar_azimuth_angle', 'L3_CLOUD_solar_zenith_angle',\n",
    "       'L3_CLOUD_surface_albedo', 'L3_AER_AI_absorbing_aerosol_index',\n",
    "       'L3_AER_AI_sensor_altitude', 'L3_AER_AI_sensor_azimuth_angle',\n",
    "       'L3_AER_AI_sensor_zenith_angle', 'L3_AER_AI_solar_azimuth_angle',\n",
    "       'L3_AER_AI_solar_zenith_angle', 'L3_SO2_SO2_column_number_density',\n",
    "       'L3_SO2_SO2_column_number_density_amf',\n",
    "       'L3_SO2_SO2_slant_column_number_density',\n",
    "       'L3_SO2_absorbing_aerosol_index', 'L3_SO2_cloud_fraction',\n",
    "       'L3_SO2_sensor_azimuth_angle', 'L3_SO2_sensor_zenith_angle',\n",
    "       'L3_SO2_solar_azimuth_angle', 'L3_SO2_solar_zenith_angle',\n",
    "       'L3_CH4_CH4_column_volume_mixing_ratio_dry_air',\n",
    "       'L3_CH4_aerosol_height', 'L3_CH4_aerosol_optical_depth',\n",
    "       'L3_CH4_sensor_azimuth_angle', 'L3_CH4_sensor_zenith_angle',\n",
    "       'L3_CH4_solar_azimuth_angle', 'L3_CH4_solar_zenith_angle']].fillna(means)\n"
   ]
  },
  {
   "cell_type": "code",
   "execution_count": 12,
   "id": "7a55d615",
   "metadata": {
    "execution": {
     "iopub.execute_input": "2023-06-17T07:08:33.260196Z",
     "iopub.status.busy": "2023-06-17T07:08:33.259786Z",
     "iopub.status.idle": "2023-06-17T07:08:33.564358Z",
     "shell.execute_reply": "2023-06-17T07:08:33.563099Z"
    },
    "papermill": {
     "duration": 0.323275,
     "end_time": "2023-06-17T07:08:33.567739",
     "exception": false,
     "start_time": "2023-06-17T07:08:33.244464",
     "status": "completed"
    },
    "tags": []
   },
   "outputs": [],
   "source": [
    "Test[['L3_NO2_NO2_column_number_density',\n",
    "       'L3_NO2_NO2_slant_column_number_density',\n",
    "       'L3_NO2_absorbing_aerosol_index', 'L3_NO2_cloud_fraction',\n",
    "       'L3_NO2_sensor_altitude', 'L3_NO2_sensor_azimuth_angle',\n",
    "       'L3_NO2_sensor_zenith_angle', 'L3_NO2_solar_azimuth_angle',\n",
    "       'L3_NO2_solar_zenith_angle',\n",
    "       'L3_NO2_stratospheric_NO2_column_number_density',\n",
    "       'L3_NO2_tropopause_pressure',\n",
    "       'L3_NO2_tropospheric_NO2_column_number_density',\n",
    "       'L3_O3_O3_column_number_density', 'L3_O3_O3_effective_temperature',\n",
    "       'L3_O3_cloud_fraction', 'L3_O3_sensor_azimuth_angle',\n",
    "       'L3_O3_sensor_zenith_angle', 'L3_O3_solar_azimuth_angle',\n",
    "       'L3_O3_solar_zenith_angle', 'L3_CO_CO_column_number_density',\n",
    "       'L3_CO_H2O_column_number_density', 'L3_CO_cloud_height',\n",
    "       'L3_CO_sensor_altitude', 'L3_CO_sensor_azimuth_angle',\n",
    "       'L3_CO_sensor_zenith_angle', 'L3_CO_solar_azimuth_angle',\n",
    "       'L3_CO_solar_zenith_angle', 'L3_HCHO_HCHO_slant_column_number_density',\n",
    "       'L3_HCHO_cloud_fraction', 'L3_HCHO_sensor_azimuth_angle',\n",
    "       'L3_HCHO_sensor_zenith_angle', 'L3_HCHO_solar_azimuth_angle',\n",
    "       'L3_HCHO_solar_zenith_angle',\n",
    "       'L3_HCHO_tropospheric_HCHO_column_number_density',\n",
    "       'L3_HCHO_tropospheric_HCHO_column_number_density_amf',\n",
    "       'L3_CLOUD_cloud_base_height', 'L3_CLOUD_cloud_base_pressure',\n",
    "       'L3_CLOUD_cloud_fraction', 'L3_CLOUD_cloud_optical_depth',\n",
    "       'L3_CLOUD_cloud_top_height', 'L3_CLOUD_cloud_top_pressure',\n",
    "       'L3_CLOUD_sensor_azimuth_angle', 'L3_CLOUD_sensor_zenith_angle',\n",
    "       'L3_CLOUD_solar_azimuth_angle', 'L3_CLOUD_solar_zenith_angle',\n",
    "       'L3_CLOUD_surface_albedo', 'L3_AER_AI_absorbing_aerosol_index',\n",
    "       'L3_AER_AI_sensor_altitude', 'L3_AER_AI_sensor_azimuth_angle',\n",
    "       'L3_AER_AI_sensor_zenith_angle', 'L3_AER_AI_solar_azimuth_angle',\n",
    "       'L3_AER_AI_solar_zenith_angle', 'L3_SO2_SO2_column_number_density',\n",
    "       'L3_SO2_SO2_column_number_density_amf',\n",
    "       'L3_SO2_SO2_slant_column_number_density',\n",
    "       'L3_SO2_absorbing_aerosol_index', 'L3_SO2_cloud_fraction',\n",
    "       'L3_SO2_sensor_azimuth_angle', 'L3_SO2_sensor_zenith_angle',\n",
    "       'L3_SO2_solar_azimuth_angle', 'L3_SO2_solar_zenith_angle',\n",
    "       'L3_CH4_CH4_column_volume_mixing_ratio_dry_air',\n",
    "       'L3_CH4_aerosol_height', 'L3_CH4_aerosol_optical_depth',\n",
    "       'L3_CH4_sensor_azimuth_angle', 'L3_CH4_sensor_zenith_angle',\n",
    "       'L3_CH4_solar_azimuth_angle', 'L3_CH4_solar_zenith_angle']]=df[['L3_NO2_NO2_column_number_density',\n",
    "       'L3_NO2_NO2_slant_column_number_density',\n",
    "       'L3_NO2_absorbing_aerosol_index', 'L3_NO2_cloud_fraction',\n",
    "       'L3_NO2_sensor_altitude', 'L3_NO2_sensor_azimuth_angle',\n",
    "       'L3_NO2_sensor_zenith_angle', 'L3_NO2_solar_azimuth_angle',\n",
    "       'L3_NO2_solar_zenith_angle',\n",
    "       'L3_NO2_stratospheric_NO2_column_number_density',\n",
    "       'L3_NO2_tropopause_pressure',\n",
    "       'L3_NO2_tropospheric_NO2_column_number_density',\n",
    "       'L3_O3_O3_column_number_density', 'L3_O3_O3_effective_temperature',\n",
    "       'L3_O3_cloud_fraction', 'L3_O3_sensor_azimuth_angle',\n",
    "       'L3_O3_sensor_zenith_angle', 'L3_O3_solar_azimuth_angle',\n",
    "       'L3_O3_solar_zenith_angle', 'L3_CO_CO_column_number_density',\n",
    "       'L3_CO_H2O_column_number_density', 'L3_CO_cloud_height',\n",
    "       'L3_CO_sensor_altitude', 'L3_CO_sensor_azimuth_angle',\n",
    "       'L3_CO_sensor_zenith_angle', 'L3_CO_solar_azimuth_angle',\n",
    "       'L3_CO_solar_zenith_angle', 'L3_HCHO_HCHO_slant_column_number_density',\n",
    "       'L3_HCHO_cloud_fraction', 'L3_HCHO_sensor_azimuth_angle',\n",
    "       'L3_HCHO_sensor_zenith_angle', 'L3_HCHO_solar_azimuth_angle',\n",
    "       'L3_HCHO_solar_zenith_angle',\n",
    "       'L3_HCHO_tropospheric_HCHO_column_number_density',\n",
    "       'L3_HCHO_tropospheric_HCHO_column_number_density_amf',\n",
    "       'L3_CLOUD_cloud_base_height', 'L3_CLOUD_cloud_base_pressure',\n",
    "       'L3_CLOUD_cloud_fraction', 'L3_CLOUD_cloud_optical_depth',\n",
    "       'L3_CLOUD_cloud_top_height', 'L3_CLOUD_cloud_top_pressure',\n",
    "       'L3_CLOUD_sensor_azimuth_angle', 'L3_CLOUD_sensor_zenith_angle',\n",
    "       'L3_CLOUD_solar_azimuth_angle', 'L3_CLOUD_solar_zenith_angle',\n",
    "       'L3_CLOUD_surface_albedo', 'L3_AER_AI_absorbing_aerosol_index',\n",
    "       'L3_AER_AI_sensor_altitude', 'L3_AER_AI_sensor_azimuth_angle',\n",
    "       'L3_AER_AI_sensor_zenith_angle', 'L3_AER_AI_solar_azimuth_angle',\n",
    "       'L3_AER_AI_solar_zenith_angle', 'L3_SO2_SO2_column_number_density',\n",
    "       'L3_SO2_SO2_column_number_density_amf',\n",
    "       'L3_SO2_SO2_slant_column_number_density',\n",
    "       'L3_SO2_absorbing_aerosol_index', 'L3_SO2_cloud_fraction',\n",
    "       'L3_SO2_sensor_azimuth_angle', 'L3_SO2_sensor_zenith_angle',\n",
    "       'L3_SO2_solar_azimuth_angle', 'L3_SO2_solar_zenith_angle',\n",
    "       'L3_CH4_CH4_column_volume_mixing_ratio_dry_air',\n",
    "       'L3_CH4_aerosol_height', 'L3_CH4_aerosol_optical_depth',\n",
    "       'L3_CH4_sensor_azimuth_angle', 'L3_CH4_sensor_zenith_angle',\n",
    "       'L3_CH4_solar_azimuth_angle', 'L3_CH4_solar_zenith_angle']].fillna(means2)"
   ]
  },
  {
   "cell_type": "code",
   "execution_count": 13,
   "id": "467b049e",
   "metadata": {
    "execution": {
     "iopub.execute_input": "2023-06-17T07:08:33.596933Z",
     "iopub.status.busy": "2023-06-17T07:08:33.596342Z",
     "iopub.status.idle": "2023-06-17T07:08:33.602426Z",
     "shell.execute_reply": "2023-06-17T07:08:33.601686Z"
    },
    "papermill": {
     "duration": 0.022954,
     "end_time": "2023-06-17T07:08:33.604499",
     "exception": false,
     "start_time": "2023-06-17T07:08:33.581545",
     "status": "completed"
    },
    "tags": []
   },
   "outputs": [
    {
     "data": {
      "text/plain": [
       "Index(['Place_ID X Date', 'Date', 'Place_ID',\n",
       "       'precipitable_water_entire_atmosphere',\n",
       "       'relative_humidity_2m_above_ground',\n",
       "       'specific_humidity_2m_above_ground', 'temperature_2m_above_ground',\n",
       "       'u_component_of_wind_10m_above_ground',\n",
       "       'v_component_of_wind_10m_above_ground',\n",
       "       'L3_NO2_NO2_column_number_density',\n",
       "       'L3_NO2_NO2_slant_column_number_density',\n",
       "       'L3_NO2_absorbing_aerosol_index', 'L3_NO2_cloud_fraction',\n",
       "       'L3_NO2_sensor_altitude', 'L3_NO2_sensor_azimuth_angle',\n",
       "       'L3_NO2_sensor_zenith_angle', 'L3_NO2_solar_azimuth_angle',\n",
       "       'L3_NO2_solar_zenith_angle',\n",
       "       'L3_NO2_stratospheric_NO2_column_number_density',\n",
       "       'L3_NO2_tropopause_pressure',\n",
       "       'L3_NO2_tropospheric_NO2_column_number_density',\n",
       "       'L3_O3_O3_column_number_density', 'L3_O3_O3_effective_temperature',\n",
       "       'L3_O3_cloud_fraction', 'L3_O3_sensor_azimuth_angle',\n",
       "       'L3_O3_sensor_zenith_angle', 'L3_O3_solar_azimuth_angle',\n",
       "       'L3_O3_solar_zenith_angle', 'L3_CO_CO_column_number_density',\n",
       "       'L3_CO_H2O_column_number_density', 'L3_CO_cloud_height',\n",
       "       'L3_CO_sensor_altitude', 'L3_CO_sensor_azimuth_angle',\n",
       "       'L3_CO_sensor_zenith_angle', 'L3_CO_solar_azimuth_angle',\n",
       "       'L3_CO_solar_zenith_angle', 'L3_HCHO_HCHO_slant_column_number_density',\n",
       "       'L3_HCHO_cloud_fraction', 'L3_HCHO_sensor_azimuth_angle',\n",
       "       'L3_HCHO_sensor_zenith_angle', 'L3_HCHO_solar_azimuth_angle',\n",
       "       'L3_HCHO_solar_zenith_angle',\n",
       "       'L3_HCHO_tropospheric_HCHO_column_number_density',\n",
       "       'L3_HCHO_tropospheric_HCHO_column_number_density_amf',\n",
       "       'L3_CLOUD_cloud_base_height', 'L3_CLOUD_cloud_base_pressure',\n",
       "       'L3_CLOUD_cloud_fraction', 'L3_CLOUD_cloud_optical_depth',\n",
       "       'L3_CLOUD_cloud_top_height', 'L3_CLOUD_cloud_top_pressure',\n",
       "       'L3_CLOUD_sensor_azimuth_angle', 'L3_CLOUD_sensor_zenith_angle',\n",
       "       'L3_CLOUD_solar_azimuth_angle', 'L3_CLOUD_solar_zenith_angle',\n",
       "       'L3_CLOUD_surface_albedo', 'L3_AER_AI_absorbing_aerosol_index',\n",
       "       'L3_AER_AI_sensor_altitude', 'L3_AER_AI_sensor_azimuth_angle',\n",
       "       'L3_AER_AI_sensor_zenith_angle', 'L3_AER_AI_solar_azimuth_angle',\n",
       "       'L3_AER_AI_solar_zenith_angle', 'L3_SO2_SO2_column_number_density',\n",
       "       'L3_SO2_SO2_column_number_density_amf',\n",
       "       'L3_SO2_SO2_slant_column_number_density',\n",
       "       'L3_SO2_absorbing_aerosol_index', 'L3_SO2_cloud_fraction',\n",
       "       'L3_SO2_sensor_azimuth_angle', 'L3_SO2_sensor_zenith_angle',\n",
       "       'L3_SO2_solar_azimuth_angle', 'L3_SO2_solar_zenith_angle',\n",
       "       'L3_CH4_CH4_column_volume_mixing_ratio_dry_air',\n",
       "       'L3_CH4_aerosol_height', 'L3_CH4_aerosol_optical_depth',\n",
       "       'L3_CH4_sensor_azimuth_angle', 'L3_CH4_sensor_zenith_angle',\n",
       "       'L3_CH4_solar_azimuth_angle', 'L3_CH4_solar_zenith_angle'],\n",
       "      dtype='object')"
      ]
     },
     "execution_count": 13,
     "metadata": {},
     "output_type": "execute_result"
    }
   ],
   "source": [
    "Test.columns\n",
    "#has nulls"
   ]
  },
  {
   "cell_type": "code",
   "execution_count": 14,
   "id": "76b9017a",
   "metadata": {
    "execution": {
     "iopub.execute_input": "2023-06-17T07:08:33.634778Z",
     "iopub.status.busy": "2023-06-17T07:08:33.634177Z",
     "iopub.status.idle": "2023-06-17T07:08:33.672981Z",
     "shell.execute_reply": "2023-06-17T07:08:33.671840Z"
    },
    "papermill": {
     "duration": 0.056793,
     "end_time": "2023-06-17T07:08:33.675599",
     "exception": false,
     "start_time": "2023-06-17T07:08:33.618806",
     "status": "completed"
    },
    "tags": []
   },
   "outputs": [
    {
     "data": {
      "text/plain": [
       "0"
      ]
     },
     "execution_count": 14,
     "metadata": {},
     "output_type": "execute_result"
    }
   ],
   "source": [
    "df.isnull().any().sum()"
   ]
  },
  {
   "cell_type": "code",
   "execution_count": 15,
   "id": "c125fb59",
   "metadata": {
    "execution": {
     "iopub.execute_input": "2023-06-17T07:08:33.705228Z",
     "iopub.status.busy": "2023-06-17T07:08:33.704808Z",
     "iopub.status.idle": "2023-06-17T07:08:33.879787Z",
     "shell.execute_reply": "2023-06-17T07:08:33.878735Z"
    },
    "papermill": {
     "duration": 0.192623,
     "end_time": "2023-06-17T07:08:33.882123",
     "exception": false,
     "start_time": "2023-06-17T07:08:33.689500",
     "status": "completed"
    },
    "tags": []
   },
   "outputs": [
    {
     "data": {
      "text/plain": [
       "0"
      ]
     },
     "execution_count": 15,
     "metadata": {},
     "output_type": "execute_result"
    }
   ],
   "source": [
    "df.duplicated().sum()\n",
    "#no duplicated columns"
   ]
  },
  {
   "cell_type": "code",
   "execution_count": 16,
   "id": "77ba4bb3",
   "metadata": {
    "execution": {
     "iopub.execute_input": "2023-06-17T07:08:33.912604Z",
     "iopub.status.busy": "2023-06-17T07:08:33.912153Z",
     "iopub.status.idle": "2023-06-17T07:08:33.920161Z",
     "shell.execute_reply": "2023-06-17T07:08:33.919174Z"
    },
    "papermill": {
     "duration": 0.025821,
     "end_time": "2023-06-17T07:08:33.922461",
     "exception": false,
     "start_time": "2023-06-17T07:08:33.896640",
     "status": "completed"
    },
    "tags": []
   },
   "outputs": [
    {
     "data": {
      "text/plain": [
       "Index(['Place_ID X Date', 'Date', 'Place_ID', 'target', 'target_min',\n",
       "       'target_max', 'target_variance', 'target_count',\n",
       "       'precipitable_water_entire_atmosphere',\n",
       "       'relative_humidity_2m_above_ground',\n",
       "       'specific_humidity_2m_above_ground', 'temperature_2m_above_ground',\n",
       "       'u_component_of_wind_10m_above_ground',\n",
       "       'v_component_of_wind_10m_above_ground',\n",
       "       'L3_NO2_NO2_column_number_density',\n",
       "       'L3_NO2_NO2_slant_column_number_density',\n",
       "       'L3_NO2_absorbing_aerosol_index', 'L3_NO2_cloud_fraction',\n",
       "       'L3_NO2_sensor_altitude', 'L3_NO2_sensor_azimuth_angle',\n",
       "       'L3_NO2_sensor_zenith_angle', 'L3_NO2_solar_azimuth_angle',\n",
       "       'L3_NO2_solar_zenith_angle',\n",
       "       'L3_NO2_stratospheric_NO2_column_number_density',\n",
       "       'L3_NO2_tropopause_pressure',\n",
       "       'L3_NO2_tropospheric_NO2_column_number_density',\n",
       "       'L3_O3_O3_column_number_density', 'L3_O3_O3_effective_temperature',\n",
       "       'L3_O3_cloud_fraction', 'L3_O3_sensor_azimuth_angle',\n",
       "       'L3_O3_sensor_zenith_angle', 'L3_O3_solar_azimuth_angle',\n",
       "       'L3_O3_solar_zenith_angle', 'L3_CO_CO_column_number_density',\n",
       "       'L3_CO_H2O_column_number_density', 'L3_CO_cloud_height',\n",
       "       'L3_CO_sensor_altitude', 'L3_CO_sensor_azimuth_angle',\n",
       "       'L3_CO_sensor_zenith_angle', 'L3_CO_solar_azimuth_angle',\n",
       "       'L3_CO_solar_zenith_angle', 'L3_HCHO_HCHO_slant_column_number_density',\n",
       "       'L3_HCHO_cloud_fraction', 'L3_HCHO_sensor_azimuth_angle',\n",
       "       'L3_HCHO_sensor_zenith_angle', 'L3_HCHO_solar_azimuth_angle',\n",
       "       'L3_HCHO_solar_zenith_angle',\n",
       "       'L3_HCHO_tropospheric_HCHO_column_number_density',\n",
       "       'L3_HCHO_tropospheric_HCHO_column_number_density_amf',\n",
       "       'L3_CLOUD_cloud_base_height', 'L3_CLOUD_cloud_base_pressure',\n",
       "       'L3_CLOUD_cloud_fraction', 'L3_CLOUD_cloud_optical_depth',\n",
       "       'L3_CLOUD_cloud_top_height', 'L3_CLOUD_cloud_top_pressure',\n",
       "       'L3_CLOUD_sensor_azimuth_angle', 'L3_CLOUD_sensor_zenith_angle',\n",
       "       'L3_CLOUD_solar_azimuth_angle', 'L3_CLOUD_solar_zenith_angle',\n",
       "       'L3_CLOUD_surface_albedo', 'L3_AER_AI_absorbing_aerosol_index',\n",
       "       'L3_AER_AI_sensor_altitude', 'L3_AER_AI_sensor_azimuth_angle',\n",
       "       'L3_AER_AI_sensor_zenith_angle', 'L3_AER_AI_solar_azimuth_angle',\n",
       "       'L3_AER_AI_solar_zenith_angle', 'L3_SO2_SO2_column_number_density',\n",
       "       'L3_SO2_SO2_column_number_density_amf',\n",
       "       'L3_SO2_SO2_slant_column_number_density',\n",
       "       'L3_SO2_absorbing_aerosol_index', 'L3_SO2_cloud_fraction',\n",
       "       'L3_SO2_sensor_azimuth_angle', 'L3_SO2_sensor_zenith_angle',\n",
       "       'L3_SO2_solar_azimuth_angle', 'L3_SO2_solar_zenith_angle',\n",
       "       'L3_CH4_CH4_column_volume_mixing_ratio_dry_air',\n",
       "       'L3_CH4_aerosol_height', 'L3_CH4_aerosol_optical_depth',\n",
       "       'L3_CH4_sensor_azimuth_angle', 'L3_CH4_sensor_zenith_angle',\n",
       "       'L3_CH4_solar_azimuth_angle', 'L3_CH4_solar_zenith_angle'],\n",
       "      dtype='object')"
      ]
     },
     "execution_count": 16,
     "metadata": {},
     "output_type": "execute_result"
    }
   ],
   "source": [
    "df.columns"
   ]
  },
  {
   "cell_type": "code",
   "execution_count": 17,
   "id": "712be91c",
   "metadata": {
    "execution": {
     "iopub.execute_input": "2023-06-17T07:08:33.955029Z",
     "iopub.status.busy": "2023-06-17T07:08:33.952779Z",
     "iopub.status.idle": "2023-06-17T07:08:33.998920Z",
     "shell.execute_reply": "2023-06-17T07:08:33.997821Z"
    },
    "papermill": {
     "duration": 0.064676,
     "end_time": "2023-06-17T07:08:34.001507",
     "exception": false,
     "start_time": "2023-06-17T07:08:33.936831",
     "status": "completed"
    },
    "tags": []
   },
   "outputs": [
    {
     "data": {
      "text/html": [
       "<div>\n",
       "<style scoped>\n",
       "    .dataframe tbody tr th:only-of-type {\n",
       "        vertical-align: middle;\n",
       "    }\n",
       "\n",
       "    .dataframe tbody tr th {\n",
       "        vertical-align: top;\n",
       "    }\n",
       "\n",
       "    .dataframe thead th {\n",
       "        text-align: right;\n",
       "    }\n",
       "</style>\n",
       "<table border=\"1\" class=\"dataframe\">\n",
       "  <thead>\n",
       "    <tr style=\"text-align: right;\">\n",
       "      <th></th>\n",
       "      <th>Place_ID X Date</th>\n",
       "      <th>Date</th>\n",
       "      <th>Place_ID</th>\n",
       "      <th>target</th>\n",
       "      <th>target_min</th>\n",
       "      <th>target_max</th>\n",
       "      <th>target_variance</th>\n",
       "      <th>target_count</th>\n",
       "      <th>precipitable_water_entire_atmosphere</th>\n",
       "      <th>relative_humidity_2m_above_ground</th>\n",
       "      <th>...</th>\n",
       "      <th>L3_SO2_sensor_zenith_angle</th>\n",
       "      <th>L3_SO2_solar_azimuth_angle</th>\n",
       "      <th>L3_SO2_solar_zenith_angle</th>\n",
       "      <th>L3_CH4_CH4_column_volume_mixing_ratio_dry_air</th>\n",
       "      <th>L3_CH4_aerosol_height</th>\n",
       "      <th>L3_CH4_aerosol_optical_depth</th>\n",
       "      <th>L3_CH4_sensor_azimuth_angle</th>\n",
       "      <th>L3_CH4_sensor_zenith_angle</th>\n",
       "      <th>L3_CH4_solar_azimuth_angle</th>\n",
       "      <th>L3_CH4_solar_zenith_angle</th>\n",
       "    </tr>\n",
       "  </thead>\n",
       "  <tbody>\n",
       "    <tr>\n",
       "      <th>0</th>\n",
       "      <td>010Q650 X 2020-01-02</td>\n",
       "      <td>2020-01-02</td>\n",
       "      <td>010Q650</td>\n",
       "      <td>38.0</td>\n",
       "      <td>23.0</td>\n",
       "      <td>53.0</td>\n",
       "      <td>769.50</td>\n",
       "      <td>92</td>\n",
       "      <td>11.000000</td>\n",
       "      <td>60.200001</td>\n",
       "      <td>...</td>\n",
       "      <td>38.593017</td>\n",
       "      <td>-61.752587</td>\n",
       "      <td>22.363665</td>\n",
       "      <td>1793.793579</td>\n",
       "      <td>3227.855469</td>\n",
       "      <td>0.010579</td>\n",
       "      <td>74.481049</td>\n",
       "      <td>37.501499</td>\n",
       "      <td>-62.142639</td>\n",
       "      <td>22.545118</td>\n",
       "    </tr>\n",
       "    <tr>\n",
       "      <th>1</th>\n",
       "      <td>010Q650 X 2020-01-03</td>\n",
       "      <td>2020-01-03</td>\n",
       "      <td>010Q650</td>\n",
       "      <td>39.0</td>\n",
       "      <td>25.0</td>\n",
       "      <td>63.0</td>\n",
       "      <td>1319.85</td>\n",
       "      <td>91</td>\n",
       "      <td>14.600000</td>\n",
       "      <td>48.799999</td>\n",
       "      <td>...</td>\n",
       "      <td>59.624912</td>\n",
       "      <td>-67.693509</td>\n",
       "      <td>28.614804</td>\n",
       "      <td>1789.960449</td>\n",
       "      <td>3384.226562</td>\n",
       "      <td>0.015104</td>\n",
       "      <td>75.630043</td>\n",
       "      <td>55.657486</td>\n",
       "      <td>-53.868134</td>\n",
       "      <td>19.293652</td>\n",
       "    </tr>\n",
       "    <tr>\n",
       "      <th>2</th>\n",
       "      <td>010Q650 X 2020-01-04</td>\n",
       "      <td>2020-01-04</td>\n",
       "      <td>010Q650</td>\n",
       "      <td>24.0</td>\n",
       "      <td>8.0</td>\n",
       "      <td>56.0</td>\n",
       "      <td>1181.96</td>\n",
       "      <td>96</td>\n",
       "      <td>16.400000</td>\n",
       "      <td>33.400002</td>\n",
       "      <td>...</td>\n",
       "      <td>49.839714</td>\n",
       "      <td>-78.342701</td>\n",
       "      <td>34.296977</td>\n",
       "      <td>923.231949</td>\n",
       "      <td>1711.793613</td>\n",
       "      <td>0.016227</td>\n",
       "      <td>1.254703</td>\n",
       "      <td>13.849040</td>\n",
       "      <td>-69.098594</td>\n",
       "      <td>23.100630</td>\n",
       "    </tr>\n",
       "    <tr>\n",
       "      <th>3</th>\n",
       "      <td>010Q650 X 2020-01-05</td>\n",
       "      <td>2020-01-05</td>\n",
       "      <td>010Q650</td>\n",
       "      <td>49.0</td>\n",
       "      <td>10.0</td>\n",
       "      <td>55.0</td>\n",
       "      <td>1113.67</td>\n",
       "      <td>96</td>\n",
       "      <td>6.911948</td>\n",
       "      <td>21.300001</td>\n",
       "      <td>...</td>\n",
       "      <td>29.181258</td>\n",
       "      <td>-73.896588</td>\n",
       "      <td>30.545446</td>\n",
       "      <td>923.231949</td>\n",
       "      <td>1711.793613</td>\n",
       "      <td>0.016227</td>\n",
       "      <td>1.254703</td>\n",
       "      <td>13.849040</td>\n",
       "      <td>-69.098594</td>\n",
       "      <td>23.100630</td>\n",
       "    </tr>\n",
       "    <tr>\n",
       "      <th>4</th>\n",
       "      <td>010Q650 X 2020-01-06</td>\n",
       "      <td>2020-01-06</td>\n",
       "      <td>010Q650</td>\n",
       "      <td>21.0</td>\n",
       "      <td>9.0</td>\n",
       "      <td>52.0</td>\n",
       "      <td>1164.82</td>\n",
       "      <td>95</td>\n",
       "      <td>13.900001</td>\n",
       "      <td>44.700001</td>\n",
       "      <td>...</td>\n",
       "      <td>0.797294</td>\n",
       "      <td>-68.612480</td>\n",
       "      <td>26.899694</td>\n",
       "      <td>923.231949</td>\n",
       "      <td>1711.793613</td>\n",
       "      <td>0.016227</td>\n",
       "      <td>1.254703</td>\n",
       "      <td>13.849040</td>\n",
       "      <td>-69.098594</td>\n",
       "      <td>23.100630</td>\n",
       "    </tr>\n",
       "    <tr>\n",
       "      <th>...</th>\n",
       "      <td>...</td>\n",
       "      <td>...</td>\n",
       "      <td>...</td>\n",
       "      <td>...</td>\n",
       "      <td>...</td>\n",
       "      <td>...</td>\n",
       "      <td>...</td>\n",
       "      <td>...</td>\n",
       "      <td>...</td>\n",
       "      <td>...</td>\n",
       "      <td>...</td>\n",
       "      <td>...</td>\n",
       "      <td>...</td>\n",
       "      <td>...</td>\n",
       "      <td>...</td>\n",
       "      <td>...</td>\n",
       "      <td>...</td>\n",
       "      <td>...</td>\n",
       "      <td>...</td>\n",
       "      <td>...</td>\n",
       "      <td>...</td>\n",
       "    </tr>\n",
       "    <tr>\n",
       "      <th>30552</th>\n",
       "      <td>YWSFY6Q X 2020-03-15</td>\n",
       "      <td>2020-03-15</td>\n",
       "      <td>YWSFY6Q</td>\n",
       "      <td>22.0</td>\n",
       "      <td>14.0</td>\n",
       "      <td>83.0</td>\n",
       "      <td>3848.86</td>\n",
       "      <td>72</td>\n",
       "      <td>6.700000</td>\n",
       "      <td>68.300003</td>\n",
       "      <td>...</td>\n",
       "      <td>54.302954</td>\n",
       "      <td>12.312248</td>\n",
       "      <td>49.871571</td>\n",
       "      <td>923.231949</td>\n",
       "      <td>1711.793613</td>\n",
       "      <td>0.016227</td>\n",
       "      <td>1.254703</td>\n",
       "      <td>13.849040</td>\n",
       "      <td>-69.098594</td>\n",
       "      <td>23.100630</td>\n",
       "    </tr>\n",
       "    <tr>\n",
       "      <th>30553</th>\n",
       "      <td>YWSFY6Q X 2020-03-16</td>\n",
       "      <td>2020-03-16</td>\n",
       "      <td>YWSFY6Q</td>\n",
       "      <td>53.0</td>\n",
       "      <td>30.0</td>\n",
       "      <td>146.0</td>\n",
       "      <td>9823.87</td>\n",
       "      <td>72</td>\n",
       "      <td>6.300000</td>\n",
       "      <td>77.700005</td>\n",
       "      <td>...</td>\n",
       "      <td>36.170757</td>\n",
       "      <td>-129.236726</td>\n",
       "      <td>49.779531</td>\n",
       "      <td>1863.555567</td>\n",
       "      <td>3475.020107</td>\n",
       "      <td>0.052920</td>\n",
       "      <td>-96.149506</td>\n",
       "      <td>33.230234</td>\n",
       "      <td>-157.067467</td>\n",
       "      <td>49.912310</td>\n",
       "    </tr>\n",
       "    <tr>\n",
       "      <th>30554</th>\n",
       "      <td>YWSFY6Q X 2020-03-17</td>\n",
       "      <td>2020-03-17</td>\n",
       "      <td>YWSFY6Q</td>\n",
       "      <td>85.0</td>\n",
       "      <td>52.0</td>\n",
       "      <td>153.0</td>\n",
       "      <td>8900.85</td>\n",
       "      <td>72</td>\n",
       "      <td>7.100000</td>\n",
       "      <td>68.500000</td>\n",
       "      <td>...</td>\n",
       "      <td>8.955216</td>\n",
       "      <td>-162.856069</td>\n",
       "      <td>48.459205</td>\n",
       "      <td>923.231949</td>\n",
       "      <td>1711.793613</td>\n",
       "      <td>0.016227</td>\n",
       "      <td>1.254703</td>\n",
       "      <td>13.849040</td>\n",
       "      <td>-69.098594</td>\n",
       "      <td>23.100630</td>\n",
       "    </tr>\n",
       "    <tr>\n",
       "      <th>30555</th>\n",
       "      <td>YWSFY6Q X 2020-03-18</td>\n",
       "      <td>2020-03-18</td>\n",
       "      <td>YWSFY6Q</td>\n",
       "      <td>103.0</td>\n",
       "      <td>33.0</td>\n",
       "      <td>149.0</td>\n",
       "      <td>13963.90</td>\n",
       "      <td>72</td>\n",
       "      <td>19.100000</td>\n",
       "      <td>66.300003</td>\n",
       "      <td>...</td>\n",
       "      <td>17.974815</td>\n",
       "      <td>-168.906764</td>\n",
       "      <td>47.293537</td>\n",
       "      <td>923.231949</td>\n",
       "      <td>1711.793613</td>\n",
       "      <td>0.016227</td>\n",
       "      <td>1.254703</td>\n",
       "      <td>13.849040</td>\n",
       "      <td>-69.098594</td>\n",
       "      <td>23.100630</td>\n",
       "    </tr>\n",
       "    <tr>\n",
       "      <th>30556</th>\n",
       "      <td>YWSFY6Q X 2020-03-19</td>\n",
       "      <td>2020-03-19</td>\n",
       "      <td>YWSFY6Q</td>\n",
       "      <td>89.0</td>\n",
       "      <td>46.0</td>\n",
       "      <td>132.0</td>\n",
       "      <td>9393.64</td>\n",
       "      <td>72</td>\n",
       "      <td>11.600000</td>\n",
       "      <td>68.400002</td>\n",
       "      <td>...</td>\n",
       "      <td>35.590916</td>\n",
       "      <td>-123.697777</td>\n",
       "      <td>46.533951</td>\n",
       "      <td>923.231949</td>\n",
       "      <td>1711.793613</td>\n",
       "      <td>0.016227</td>\n",
       "      <td>1.254703</td>\n",
       "      <td>13.849040</td>\n",
       "      <td>-69.098594</td>\n",
       "      <td>23.100630</td>\n",
       "    </tr>\n",
       "  </tbody>\n",
       "</table>\n",
       "<p>30557 rows × 82 columns</p>\n",
       "</div>"
      ],
      "text/plain": [
       "            Place_ID X Date        Date Place_ID  target  target_min  \\\n",
       "0      010Q650 X 2020-01-02  2020-01-02  010Q650    38.0        23.0   \n",
       "1      010Q650 X 2020-01-03  2020-01-03  010Q650    39.0        25.0   \n",
       "2      010Q650 X 2020-01-04  2020-01-04  010Q650    24.0         8.0   \n",
       "3      010Q650 X 2020-01-05  2020-01-05  010Q650    49.0        10.0   \n",
       "4      010Q650 X 2020-01-06  2020-01-06  010Q650    21.0         9.0   \n",
       "...                     ...         ...      ...     ...         ...   \n",
       "30552  YWSFY6Q X 2020-03-15  2020-03-15  YWSFY6Q    22.0        14.0   \n",
       "30553  YWSFY6Q X 2020-03-16  2020-03-16  YWSFY6Q    53.0        30.0   \n",
       "30554  YWSFY6Q X 2020-03-17  2020-03-17  YWSFY6Q    85.0        52.0   \n",
       "30555  YWSFY6Q X 2020-03-18  2020-03-18  YWSFY6Q   103.0        33.0   \n",
       "30556  YWSFY6Q X 2020-03-19  2020-03-19  YWSFY6Q    89.0        46.0   \n",
       "\n",
       "       target_max  target_variance  target_count  \\\n",
       "0            53.0           769.50            92   \n",
       "1            63.0          1319.85            91   \n",
       "2            56.0          1181.96            96   \n",
       "3            55.0          1113.67            96   \n",
       "4            52.0          1164.82            95   \n",
       "...           ...              ...           ...   \n",
       "30552        83.0          3848.86            72   \n",
       "30553       146.0          9823.87            72   \n",
       "30554       153.0          8900.85            72   \n",
       "30555       149.0         13963.90            72   \n",
       "30556       132.0          9393.64            72   \n",
       "\n",
       "       precipitable_water_entire_atmosphere  \\\n",
       "0                                 11.000000   \n",
       "1                                 14.600000   \n",
       "2                                 16.400000   \n",
       "3                                  6.911948   \n",
       "4                                 13.900001   \n",
       "...                                     ...   \n",
       "30552                              6.700000   \n",
       "30553                              6.300000   \n",
       "30554                              7.100000   \n",
       "30555                             19.100000   \n",
       "30556                             11.600000   \n",
       "\n",
       "       relative_humidity_2m_above_ground  ...  L3_SO2_sensor_zenith_angle  \\\n",
       "0                              60.200001  ...                   38.593017   \n",
       "1                              48.799999  ...                   59.624912   \n",
       "2                              33.400002  ...                   49.839714   \n",
       "3                              21.300001  ...                   29.181258   \n",
       "4                              44.700001  ...                    0.797294   \n",
       "...                                  ...  ...                         ...   \n",
       "30552                          68.300003  ...                   54.302954   \n",
       "30553                          77.700005  ...                   36.170757   \n",
       "30554                          68.500000  ...                    8.955216   \n",
       "30555                          66.300003  ...                   17.974815   \n",
       "30556                          68.400002  ...                   35.590916   \n",
       "\n",
       "       L3_SO2_solar_azimuth_angle  L3_SO2_solar_zenith_angle  \\\n",
       "0                      -61.752587                  22.363665   \n",
       "1                      -67.693509                  28.614804   \n",
       "2                      -78.342701                  34.296977   \n",
       "3                      -73.896588                  30.545446   \n",
       "4                      -68.612480                  26.899694   \n",
       "...                           ...                        ...   \n",
       "30552                   12.312248                  49.871571   \n",
       "30553                 -129.236726                  49.779531   \n",
       "30554                 -162.856069                  48.459205   \n",
       "30555                 -168.906764                  47.293537   \n",
       "30556                 -123.697777                  46.533951   \n",
       "\n",
       "       L3_CH4_CH4_column_volume_mixing_ratio_dry_air  L3_CH4_aerosol_height  \\\n",
       "0                                        1793.793579            3227.855469   \n",
       "1                                        1789.960449            3384.226562   \n",
       "2                                         923.231949            1711.793613   \n",
       "3                                         923.231949            1711.793613   \n",
       "4                                         923.231949            1711.793613   \n",
       "...                                              ...                    ...   \n",
       "30552                                     923.231949            1711.793613   \n",
       "30553                                    1863.555567            3475.020107   \n",
       "30554                                     923.231949            1711.793613   \n",
       "30555                                     923.231949            1711.793613   \n",
       "30556                                     923.231949            1711.793613   \n",
       "\n",
       "       L3_CH4_aerosol_optical_depth  L3_CH4_sensor_azimuth_angle  \\\n",
       "0                          0.010579                    74.481049   \n",
       "1                          0.015104                    75.630043   \n",
       "2                          0.016227                     1.254703   \n",
       "3                          0.016227                     1.254703   \n",
       "4                          0.016227                     1.254703   \n",
       "...                             ...                          ...   \n",
       "30552                      0.016227                     1.254703   \n",
       "30553                      0.052920                   -96.149506   \n",
       "30554                      0.016227                     1.254703   \n",
       "30555                      0.016227                     1.254703   \n",
       "30556                      0.016227                     1.254703   \n",
       "\n",
       "       L3_CH4_sensor_zenith_angle  L3_CH4_solar_azimuth_angle  \\\n",
       "0                       37.501499                  -62.142639   \n",
       "1                       55.657486                  -53.868134   \n",
       "2                       13.849040                  -69.098594   \n",
       "3                       13.849040                  -69.098594   \n",
       "4                       13.849040                  -69.098594   \n",
       "...                           ...                         ...   \n",
       "30552                   13.849040                  -69.098594   \n",
       "30553                   33.230234                 -157.067467   \n",
       "30554                   13.849040                  -69.098594   \n",
       "30555                   13.849040                  -69.098594   \n",
       "30556                   13.849040                  -69.098594   \n",
       "\n",
       "       L3_CH4_solar_zenith_angle  \n",
       "0                      22.545118  \n",
       "1                      19.293652  \n",
       "2                      23.100630  \n",
       "3                      23.100630  \n",
       "4                      23.100630  \n",
       "...                          ...  \n",
       "30552                  23.100630  \n",
       "30553                  49.912310  \n",
       "30554                  23.100630  \n",
       "30555                  23.100630  \n",
       "30556                  23.100630  \n",
       "\n",
       "[30557 rows x 82 columns]"
      ]
     },
     "execution_count": 17,
     "metadata": {},
     "output_type": "execute_result"
    }
   ],
   "source": [
    "df"
   ]
  },
  {
   "cell_type": "code",
   "execution_count": 18,
   "id": "44772a7a",
   "metadata": {
    "execution": {
     "iopub.execute_input": "2023-06-17T07:08:34.033351Z",
     "iopub.status.busy": "2023-06-17T07:08:34.032910Z",
     "iopub.status.idle": "2023-06-17T07:08:34.068076Z",
     "shell.execute_reply": "2023-06-17T07:08:34.067273Z"
    },
    "papermill": {
     "duration": 0.054029,
     "end_time": "2023-06-17T07:08:34.070926",
     "exception": false,
     "start_time": "2023-06-17T07:08:34.016897",
     "status": "completed"
    },
    "tags": []
   },
   "outputs": [
    {
     "name": "stdout",
     "output_type": "stream",
     "text": [
      "<class 'pandas.core.frame.DataFrame'>\n",
      "RangeIndex: 16136 entries, 0 to 16135\n",
      "Data columns (total 77 columns):\n",
      " #   Column                                               Non-Null Count  Dtype  \n",
      "---  ------                                               --------------  -----  \n",
      " 0   Place_ID X Date                                      16136 non-null  object \n",
      " 1   Date                                                 16136 non-null  object \n",
      " 2   Place_ID                                             16136 non-null  object \n",
      " 3   precipitable_water_entire_atmosphere                 16136 non-null  float64\n",
      " 4   relative_humidity_2m_above_ground                    16136 non-null  float64\n",
      " 5   specific_humidity_2m_above_ground                    16136 non-null  float64\n",
      " 6   temperature_2m_above_ground                          16136 non-null  float64\n",
      " 7   u_component_of_wind_10m_above_ground                 16136 non-null  float64\n",
      " 8   v_component_of_wind_10m_above_ground                 16136 non-null  float64\n",
      " 9   L3_NO2_NO2_column_number_density                     14809 non-null  float64\n",
      " 10  L3_NO2_NO2_slant_column_number_density               14809 non-null  float64\n",
      " 11  L3_NO2_absorbing_aerosol_index                       14809 non-null  float64\n",
      " 12  L3_NO2_cloud_fraction                                14809 non-null  float64\n",
      " 13  L3_NO2_sensor_altitude                               14809 non-null  float64\n",
      " 14  L3_NO2_sensor_azimuth_angle                          14809 non-null  float64\n",
      " 15  L3_NO2_sensor_zenith_angle                           14809 non-null  float64\n",
      " 16  L3_NO2_solar_azimuth_angle                           14809 non-null  float64\n",
      " 17  L3_NO2_solar_zenith_angle                            14809 non-null  float64\n",
      " 18  L3_NO2_stratospheric_NO2_column_number_density       14809 non-null  float64\n",
      " 19  L3_NO2_tropopause_pressure                           14809 non-null  float64\n",
      " 20  L3_NO2_tropospheric_NO2_column_number_density        11163 non-null  float64\n",
      " 21  L3_O3_O3_column_number_density                       15922 non-null  float64\n",
      " 22  L3_O3_O3_effective_temperature                       15922 non-null  float64\n",
      " 23  L3_O3_cloud_fraction                                 15922 non-null  float64\n",
      " 24  L3_O3_sensor_azimuth_angle                           15922 non-null  float64\n",
      " 25  L3_O3_sensor_zenith_angle                            15922 non-null  float64\n",
      " 26  L3_O3_solar_azimuth_angle                            15922 non-null  float64\n",
      " 27  L3_O3_solar_zenith_angle                             15922 non-null  float64\n",
      " 28  L3_CO_CO_column_number_density                       13135 non-null  float64\n",
      " 29  L3_CO_H2O_column_number_density                      13135 non-null  float64\n",
      " 30  L3_CO_cloud_height                                   13135 non-null  float64\n",
      " 31  L3_CO_sensor_altitude                                13135 non-null  float64\n",
      " 32  L3_CO_sensor_azimuth_angle                           13135 non-null  float64\n",
      " 33  L3_CO_sensor_zenith_angle                            13135 non-null  float64\n",
      " 34  L3_CO_solar_azimuth_angle                            13135 non-null  float64\n",
      " 35  L3_CO_solar_zenith_angle                             13135 non-null  float64\n",
      " 36  L3_HCHO_HCHO_slant_column_number_density             11916 non-null  float64\n",
      " 37  L3_HCHO_cloud_fraction                               11916 non-null  float64\n",
      " 38  L3_HCHO_sensor_azimuth_angle                         11916 non-null  float64\n",
      " 39  L3_HCHO_sensor_zenith_angle                          11916 non-null  float64\n",
      " 40  L3_HCHO_solar_azimuth_angle                          11916 non-null  float64\n",
      " 41  L3_HCHO_solar_zenith_angle                           11916 non-null  float64\n",
      " 42  L3_HCHO_tropospheric_HCHO_column_number_density      11916 non-null  float64\n",
      " 43  L3_HCHO_tropospheric_HCHO_column_number_density_amf  11916 non-null  float64\n",
      " 44  L3_CLOUD_cloud_base_height                           15186 non-null  float64\n",
      " 45  L3_CLOUD_cloud_base_pressure                         15186 non-null  float64\n",
      " 46  L3_CLOUD_cloud_fraction                              15874 non-null  float64\n",
      " 47  L3_CLOUD_cloud_optical_depth                         15186 non-null  float64\n",
      " 48  L3_CLOUD_cloud_top_height                            15186 non-null  float64\n",
      " 49  L3_CLOUD_cloud_top_pressure                          15186 non-null  float64\n",
      " 50  L3_CLOUD_sensor_azimuth_angle                        15874 non-null  float64\n",
      " 51  L3_CLOUD_sensor_zenith_angle                         15874 non-null  float64\n",
      " 52  L3_CLOUD_solar_azimuth_angle                         15874 non-null  float64\n",
      " 53  L3_CLOUD_solar_zenith_angle                          15874 non-null  float64\n",
      " 54  L3_CLOUD_surface_albedo                              15186 non-null  float64\n",
      " 55  L3_AER_AI_absorbing_aerosol_index                    16043 non-null  float64\n",
      " 56  L3_AER_AI_sensor_altitude                            16043 non-null  float64\n",
      " 57  L3_AER_AI_sensor_azimuth_angle                       16043 non-null  float64\n",
      " 58  L3_AER_AI_sensor_zenith_angle                        16043 non-null  float64\n",
      " 59  L3_AER_AI_solar_azimuth_angle                        16043 non-null  float64\n",
      " 60  L3_AER_AI_solar_zenith_angle                         16043 non-null  float64\n",
      " 61  L3_SO2_SO2_column_number_density                     11963 non-null  float64\n",
      " 62  L3_SO2_SO2_column_number_density_amf                 11963 non-null  float64\n",
      " 63  L3_SO2_SO2_slant_column_number_density               11963 non-null  float64\n",
      " 64  L3_SO2_absorbing_aerosol_index                       11934 non-null  float64\n",
      " 65  L3_SO2_cloud_fraction                                11963 non-null  float64\n",
      " 66  L3_SO2_sensor_azimuth_angle                          11963 non-null  float64\n",
      " 67  L3_SO2_sensor_zenith_angle                           11963 non-null  float64\n",
      " 68  L3_SO2_solar_azimuth_angle                           11963 non-null  float64\n",
      " 69  L3_SO2_solar_zenith_angle                            11963 non-null  float64\n",
      " 70  L3_CH4_CH4_column_volume_mixing_ratio_dry_air        3115 non-null   float64\n",
      " 71  L3_CH4_aerosol_height                                3115 non-null   float64\n",
      " 72  L3_CH4_aerosol_optical_depth                         3115 non-null   float64\n",
      " 73  L3_CH4_sensor_azimuth_angle                          3115 non-null   float64\n",
      " 74  L3_CH4_sensor_zenith_angle                           3115 non-null   float64\n",
      " 75  L3_CH4_solar_azimuth_angle                           3115 non-null   float64\n",
      " 76  L3_CH4_solar_zenith_angle                            3115 non-null   float64\n",
      "dtypes: float64(74), object(3)\n",
      "memory usage: 9.5+ MB\n"
     ]
    }
   ],
   "source": [
    "test.info()"
   ]
  },
  {
   "cell_type": "markdown",
   "id": "dc5bd443",
   "metadata": {
    "papermill": {
     "duration": 0.014561,
     "end_time": "2023-06-17T07:08:34.100860",
     "exception": false,
     "start_time": "2023-06-17T07:08:34.086299",
     "status": "completed"
    },
    "tags": []
   },
   "source": [
    "Feature Engineering"
   ]
  },
  {
   "cell_type": "code",
   "execution_count": 19,
   "id": "11dc68b3",
   "metadata": {
    "execution": {
     "iopub.execute_input": "2023-06-17T07:08:34.133109Z",
     "iopub.status.busy": "2023-06-17T07:08:34.132509Z",
     "iopub.status.idle": "2023-06-17T07:08:34.666889Z",
     "shell.execute_reply": "2023-06-17T07:08:34.665676Z"
    },
    "papermill": {
     "duration": 0.553594,
     "end_time": "2023-06-17T07:08:34.669588",
     "exception": false,
     "start_time": "2023-06-17T07:08:34.115994",
     "status": "completed"
    },
    "tags": []
   },
   "outputs": [
    {
     "name": "stderr",
     "output_type": "stream",
     "text": [
      "/tmp/ipykernel_20/3772647695.py:1: FutureWarning: The default value of numeric_only in DataFrame.corr is deprecated. In a future version, it will default to False. Select only valid columns or specify the value of numeric_only to silence this warning.\n",
      "  df.corr()['target'].sort_values()\n"
     ]
    },
    {
     "data": {
      "text/plain": [
       "L3_AER_AI_sensor_altitude                         -0.307659\n",
       "L3_AER_AI_solar_azimuth_angle                     -0.193027\n",
       "L3_CLOUD_solar_azimuth_angle                      -0.186808\n",
       "L3_O3_solar_azimuth_angle                         -0.184771\n",
       "L3_NO2_solar_azimuth_angle                        -0.171171\n",
       "                                                     ...   \n",
       "L3_HCHO_tropospheric_HCHO_column_number_density    0.309343\n",
       "L3_CO_CO_column_number_density                     0.341727\n",
       "target_max                                         0.630801\n",
       "target_min                                         0.818803\n",
       "target                                             1.000000\n",
       "Name: target, Length: 79, dtype: float64"
      ]
     },
     "execution_count": 19,
     "metadata": {},
     "output_type": "execute_result"
    }
   ],
   "source": [
    "df.corr()['target'].sort_values()"
   ]
  },
  {
   "cell_type": "code",
   "execution_count": 20,
   "id": "6f8e54e5",
   "metadata": {
    "execution": {
     "iopub.execute_input": "2023-06-17T07:08:34.702123Z",
     "iopub.status.busy": "2023-06-17T07:08:34.701751Z",
     "iopub.status.idle": "2023-06-17T07:08:34.750069Z",
     "shell.execute_reply": "2023-06-17T07:08:34.748056Z"
    },
    "papermill": {
     "duration": 0.067624,
     "end_time": "2023-06-17T07:08:34.752677",
     "exception": false,
     "start_time": "2023-06-17T07:08:34.685053",
     "status": "completed"
    },
    "tags": []
   },
   "outputs": [
    {
     "name": "stdout",
     "output_type": "stream",
     "text": [
      "<class 'pandas.core.frame.DataFrame'>\n",
      "RangeIndex: 30557 entries, 0 to 30556\n",
      "Data columns (total 82 columns):\n",
      " #   Column                                               Non-Null Count  Dtype  \n",
      "---  ------                                               --------------  -----  \n",
      " 0   Place_ID X Date                                      30557 non-null  object \n",
      " 1   Date                                                 30557 non-null  object \n",
      " 2   Place_ID                                             30557 non-null  object \n",
      " 3   target                                               30557 non-null  float64\n",
      " 4   target_min                                           30557 non-null  float64\n",
      " 5   target_max                                           30557 non-null  float64\n",
      " 6   target_variance                                      30557 non-null  float64\n",
      " 7   target_count                                         30557 non-null  int64  \n",
      " 8   precipitable_water_entire_atmosphere                 30557 non-null  float64\n",
      " 9   relative_humidity_2m_above_ground                    30557 non-null  float64\n",
      " 10  specific_humidity_2m_above_ground                    30557 non-null  float64\n",
      " 11  temperature_2m_above_ground                          30557 non-null  float64\n",
      " 12  u_component_of_wind_10m_above_ground                 30557 non-null  float64\n",
      " 13  v_component_of_wind_10m_above_ground                 30557 non-null  float64\n",
      " 14  L3_NO2_NO2_column_number_density                     30557 non-null  float64\n",
      " 15  L3_NO2_NO2_slant_column_number_density               30557 non-null  float64\n",
      " 16  L3_NO2_absorbing_aerosol_index                       30557 non-null  float64\n",
      " 17  L3_NO2_cloud_fraction                                30557 non-null  float64\n",
      " 18  L3_NO2_sensor_altitude                               30557 non-null  float64\n",
      " 19  L3_NO2_sensor_azimuth_angle                          30557 non-null  float64\n",
      " 20  L3_NO2_sensor_zenith_angle                           30557 non-null  float64\n",
      " 21  L3_NO2_solar_azimuth_angle                           30557 non-null  float64\n",
      " 22  L3_NO2_solar_zenith_angle                            30557 non-null  float64\n",
      " 23  L3_NO2_stratospheric_NO2_column_number_density       30557 non-null  float64\n",
      " 24  L3_NO2_tropopause_pressure                           30557 non-null  float64\n",
      " 25  L3_NO2_tropospheric_NO2_column_number_density        30557 non-null  float64\n",
      " 26  L3_O3_O3_column_number_density                       30557 non-null  float64\n",
      " 27  L3_O3_O3_effective_temperature                       30557 non-null  float64\n",
      " 28  L3_O3_cloud_fraction                                 30557 non-null  float64\n",
      " 29  L3_O3_sensor_azimuth_angle                           30557 non-null  float64\n",
      " 30  L3_O3_sensor_zenith_angle                            30557 non-null  float64\n",
      " 31  L3_O3_solar_azimuth_angle                            30557 non-null  float64\n",
      " 32  L3_O3_solar_zenith_angle                             30557 non-null  float64\n",
      " 33  L3_CO_CO_column_number_density                       30557 non-null  float64\n",
      " 34  L3_CO_H2O_column_number_density                      30557 non-null  float64\n",
      " 35  L3_CO_cloud_height                                   30557 non-null  float64\n",
      " 36  L3_CO_sensor_altitude                                30557 non-null  float64\n",
      " 37  L3_CO_sensor_azimuth_angle                           30557 non-null  float64\n",
      " 38  L3_CO_sensor_zenith_angle                            30557 non-null  float64\n",
      " 39  L3_CO_solar_azimuth_angle                            30557 non-null  float64\n",
      " 40  L3_CO_solar_zenith_angle                             30557 non-null  float64\n",
      " 41  L3_HCHO_HCHO_slant_column_number_density             30557 non-null  float64\n",
      " 42  L3_HCHO_cloud_fraction                               30557 non-null  float64\n",
      " 43  L3_HCHO_sensor_azimuth_angle                         30557 non-null  float64\n",
      " 44  L3_HCHO_sensor_zenith_angle                          30557 non-null  float64\n",
      " 45  L3_HCHO_solar_azimuth_angle                          30557 non-null  float64\n",
      " 46  L3_HCHO_solar_zenith_angle                           30557 non-null  float64\n",
      " 47  L3_HCHO_tropospheric_HCHO_column_number_density      30557 non-null  float64\n",
      " 48  L3_HCHO_tropospheric_HCHO_column_number_density_amf  30557 non-null  float64\n",
      " 49  L3_CLOUD_cloud_base_height                           30557 non-null  float64\n",
      " 50  L3_CLOUD_cloud_base_pressure                         30557 non-null  float64\n",
      " 51  L3_CLOUD_cloud_fraction                              30557 non-null  float64\n",
      " 52  L3_CLOUD_cloud_optical_depth                         30557 non-null  float64\n",
      " 53  L3_CLOUD_cloud_top_height                            30557 non-null  float64\n",
      " 54  L3_CLOUD_cloud_top_pressure                          30557 non-null  float64\n",
      " 55  L3_CLOUD_sensor_azimuth_angle                        30557 non-null  float64\n",
      " 56  L3_CLOUD_sensor_zenith_angle                         30557 non-null  float64\n",
      " 57  L3_CLOUD_solar_azimuth_angle                         30557 non-null  float64\n",
      " 58  L3_CLOUD_solar_zenith_angle                          30557 non-null  float64\n",
      " 59  L3_CLOUD_surface_albedo                              30557 non-null  float64\n",
      " 60  L3_AER_AI_absorbing_aerosol_index                    30557 non-null  float64\n",
      " 61  L3_AER_AI_sensor_altitude                            30557 non-null  float64\n",
      " 62  L3_AER_AI_sensor_azimuth_angle                       30557 non-null  float64\n",
      " 63  L3_AER_AI_sensor_zenith_angle                        30557 non-null  float64\n",
      " 64  L3_AER_AI_solar_azimuth_angle                        30557 non-null  float64\n",
      " 65  L3_AER_AI_solar_zenith_angle                         30557 non-null  float64\n",
      " 66  L3_SO2_SO2_column_number_density                     30557 non-null  float64\n",
      " 67  L3_SO2_SO2_column_number_density_amf                 30557 non-null  float64\n",
      " 68  L3_SO2_SO2_slant_column_number_density               30557 non-null  float64\n",
      " 69  L3_SO2_absorbing_aerosol_index                       30557 non-null  float64\n",
      " 70  L3_SO2_cloud_fraction                                30557 non-null  float64\n",
      " 71  L3_SO2_sensor_azimuth_angle                          30557 non-null  float64\n",
      " 72  L3_SO2_sensor_zenith_angle                           30557 non-null  float64\n",
      " 73  L3_SO2_solar_azimuth_angle                           30557 non-null  float64\n",
      " 74  L3_SO2_solar_zenith_angle                            30557 non-null  float64\n",
      " 75  L3_CH4_CH4_column_volume_mixing_ratio_dry_air        30557 non-null  float64\n",
      " 76  L3_CH4_aerosol_height                                30557 non-null  float64\n",
      " 77  L3_CH4_aerosol_optical_depth                         30557 non-null  float64\n",
      " 78  L3_CH4_sensor_azimuth_angle                          30557 non-null  float64\n",
      " 79  L3_CH4_sensor_zenith_angle                           30557 non-null  float64\n",
      " 80  L3_CH4_solar_azimuth_angle                           30557 non-null  float64\n",
      " 81  L3_CH4_solar_zenith_angle                            30557 non-null  float64\n",
      "dtypes: float64(78), int64(1), object(3)\n",
      "memory usage: 19.1+ MB\n"
     ]
    }
   ],
   "source": [
    "#will drop\n",
    "df.info()"
   ]
  },
  {
   "cell_type": "code",
   "execution_count": 21,
   "id": "0944a069",
   "metadata": {
    "execution": {
     "iopub.execute_input": "2023-06-17T07:08:34.786522Z",
     "iopub.status.busy": "2023-06-17T07:08:34.785438Z",
     "iopub.status.idle": "2023-06-17T07:08:34.796053Z",
     "shell.execute_reply": "2023-06-17T07:08:34.794745Z"
    },
    "papermill": {
     "duration": 0.030352,
     "end_time": "2023-06-17T07:08:34.798801",
     "exception": false,
     "start_time": "2023-06-17T07:08:34.768449",
     "status": "completed"
    },
    "tags": []
   },
   "outputs": [],
   "source": [
    "x=df.drop(['target','target_min','target_max','target_variance','target_count','Place_ID','Date','Place_ID X Date'],axis=1)\n",
    "y=df['target']"
   ]
  },
  {
   "cell_type": "code",
   "execution_count": 22,
   "id": "16f9039c",
   "metadata": {
    "execution": {
     "iopub.execute_input": "2023-06-17T07:08:34.835885Z",
     "iopub.status.busy": "2023-06-17T07:08:34.835463Z",
     "iopub.status.idle": "2023-06-17T07:08:34.848044Z",
     "shell.execute_reply": "2023-06-17T07:08:34.846832Z"
    },
    "papermill": {
     "duration": 0.032517,
     "end_time": "2023-06-17T07:08:34.850661",
     "exception": false,
     "start_time": "2023-06-17T07:08:34.818144",
     "status": "completed"
    },
    "tags": []
   },
   "outputs": [],
   "source": [
    "ntest=Test.drop(['Place_ID','Date','Place_ID X Date'],axis=1)"
   ]
  },
  {
   "cell_type": "code",
   "execution_count": 23,
   "id": "81f2759e",
   "metadata": {
    "execution": {
     "iopub.execute_input": "2023-06-17T07:08:34.883903Z",
     "iopub.status.busy": "2023-06-17T07:08:34.883014Z",
     "iopub.status.idle": "2023-06-17T07:08:34.890035Z",
     "shell.execute_reply": "2023-06-17T07:08:34.889067Z"
    },
    "papermill": {
     "duration": 0.025919,
     "end_time": "2023-06-17T07:08:34.892152",
     "exception": false,
     "start_time": "2023-06-17T07:08:34.866233",
     "status": "completed"
    },
    "tags": []
   },
   "outputs": [
    {
     "data": {
      "text/plain": [
       "(30557, 74)"
      ]
     },
     "execution_count": 23,
     "metadata": {},
     "output_type": "execute_result"
    }
   ],
   "source": [
    "x.shape"
   ]
  },
  {
   "cell_type": "code",
   "execution_count": 24,
   "id": "18487430",
   "metadata": {
    "execution": {
     "iopub.execute_input": "2023-06-17T07:08:34.926863Z",
     "iopub.status.busy": "2023-06-17T07:08:34.925651Z",
     "iopub.status.idle": "2023-06-17T07:08:34.932856Z",
     "shell.execute_reply": "2023-06-17T07:08:34.931939Z"
    },
    "papermill": {
     "duration": 0.026943,
     "end_time": "2023-06-17T07:08:34.935162",
     "exception": false,
     "start_time": "2023-06-17T07:08:34.908219",
     "status": "completed"
    },
    "tags": []
   },
   "outputs": [
    {
     "data": {
      "text/plain": [
       "(16136, 74)"
      ]
     },
     "execution_count": 24,
     "metadata": {},
     "output_type": "execute_result"
    }
   ],
   "source": [
    "ntest.shape"
   ]
  },
  {
   "cell_type": "markdown",
   "id": "0350925f",
   "metadata": {
    "papermill": {
     "duration": 0.015383,
     "end_time": "2023-06-17T07:08:34.966435",
     "exception": false,
     "start_time": "2023-06-17T07:08:34.951052",
     "status": "completed"
    },
    "tags": []
   },
   "source": [
    "Lets split and Scale values"
   ]
  },
  {
   "cell_type": "code",
   "execution_count": 25,
   "id": "b8a95184",
   "metadata": {
    "execution": {
     "iopub.execute_input": "2023-06-17T07:08:35.000077Z",
     "iopub.status.busy": "2023-06-17T07:08:34.999184Z",
     "iopub.status.idle": "2023-06-17T07:08:36.420363Z",
     "shell.execute_reply": "2023-06-17T07:08:36.419404Z"
    },
    "papermill": {
     "duration": 1.440839,
     "end_time": "2023-06-17T07:08:36.423112",
     "exception": false,
     "start_time": "2023-06-17T07:08:34.982273",
     "status": "completed"
    },
    "tags": []
   },
   "outputs": [],
   "source": [
    "from sklearn.model_selection import train_test_split\n",
    "X_train,X_test,y_train,y_test=train_test_split(x,y,test_size=0.3,random_state=101)"
   ]
  },
  {
   "cell_type": "code",
   "execution_count": 26,
   "id": "750e8881",
   "metadata": {
    "execution": {
     "iopub.execute_input": "2023-06-17T07:08:36.458155Z",
     "iopub.status.busy": "2023-06-17T07:08:36.457420Z",
     "iopub.status.idle": "2023-06-17T07:08:36.488339Z",
     "shell.execute_reply": "2023-06-17T07:08:36.487271Z"
    },
    "papermill": {
     "duration": 0.051941,
     "end_time": "2023-06-17T07:08:36.491026",
     "exception": false,
     "start_time": "2023-06-17T07:08:36.439085",
     "status": "completed"
    },
    "tags": []
   },
   "outputs": [],
   "source": [
    "from sklearn.preprocessing import MinMaxScaler\n",
    "scaler=MinMaxScaler()\n",
    "x_train=scaler.fit_transform(X_train)\n",
    "x_test=scaler.fit_transform(X_test)"
   ]
  },
  {
   "cell_type": "markdown",
   "id": "486d2265",
   "metadata": {
    "papermill": {
     "duration": 0.015593,
     "end_time": "2023-06-17T07:08:36.522623",
     "exception": false,
     "start_time": "2023-06-17T07:08:36.507030",
     "status": "completed"
    },
    "tags": []
   },
   "source": [
    "MODEL"
   ]
  },
  {
   "cell_type": "code",
   "execution_count": 27,
   "id": "59921ae6",
   "metadata": {
    "execution": {
     "iopub.execute_input": "2023-06-17T07:08:36.557018Z",
     "iopub.status.busy": "2023-06-17T07:08:36.556239Z",
     "iopub.status.idle": "2023-06-17T07:08:36.652676Z",
     "shell.execute_reply": "2023-06-17T07:08:36.651652Z"
    },
    "papermill": {
     "duration": 0.116819,
     "end_time": "2023-06-17T07:08:36.655477",
     "exception": false,
     "start_time": "2023-06-17T07:08:36.538658",
     "status": "completed"
    },
    "tags": []
   },
   "outputs": [],
   "source": [
    "import sklearn.linear_model\n",
    "from sklearn.linear_model import LinearRegression\n",
    "LM=LinearRegression()"
   ]
  },
  {
   "cell_type": "code",
   "execution_count": 28,
   "id": "8fe59f11",
   "metadata": {
    "execution": {
     "iopub.execute_input": "2023-06-17T07:08:36.689117Z",
     "iopub.status.busy": "2023-06-17T07:08:36.688740Z",
     "iopub.status.idle": "2023-06-17T07:08:36.822910Z",
     "shell.execute_reply": "2023-06-17T07:08:36.821800Z"
    },
    "papermill": {
     "duration": 0.155349,
     "end_time": "2023-06-17T07:08:36.826914",
     "exception": false,
     "start_time": "2023-06-17T07:08:36.671565",
     "status": "completed"
    },
    "tags": []
   },
   "outputs": [
    {
     "data": {
      "text/html": [
       "<style>#sk-container-id-1 {color: black;background-color: white;}#sk-container-id-1 pre{padding: 0;}#sk-container-id-1 div.sk-toggleable {background-color: white;}#sk-container-id-1 label.sk-toggleable__label {cursor: pointer;display: block;width: 100%;margin-bottom: 0;padding: 0.3em;box-sizing: border-box;text-align: center;}#sk-container-id-1 label.sk-toggleable__label-arrow:before {content: \"▸\";float: left;margin-right: 0.25em;color: #696969;}#sk-container-id-1 label.sk-toggleable__label-arrow:hover:before {color: black;}#sk-container-id-1 div.sk-estimator:hover label.sk-toggleable__label-arrow:before {color: black;}#sk-container-id-1 div.sk-toggleable__content {max-height: 0;max-width: 0;overflow: hidden;text-align: left;background-color: #f0f8ff;}#sk-container-id-1 div.sk-toggleable__content pre {margin: 0.2em;color: black;border-radius: 0.25em;background-color: #f0f8ff;}#sk-container-id-1 input.sk-toggleable__control:checked~div.sk-toggleable__content {max-height: 200px;max-width: 100%;overflow: auto;}#sk-container-id-1 input.sk-toggleable__control:checked~label.sk-toggleable__label-arrow:before {content: \"▾\";}#sk-container-id-1 div.sk-estimator input.sk-toggleable__control:checked~label.sk-toggleable__label {background-color: #d4ebff;}#sk-container-id-1 div.sk-label input.sk-toggleable__control:checked~label.sk-toggleable__label {background-color: #d4ebff;}#sk-container-id-1 input.sk-hidden--visually {border: 0;clip: rect(1px 1px 1px 1px);clip: rect(1px, 1px, 1px, 1px);height: 1px;margin: -1px;overflow: hidden;padding: 0;position: absolute;width: 1px;}#sk-container-id-1 div.sk-estimator {font-family: monospace;background-color: #f0f8ff;border: 1px dotted black;border-radius: 0.25em;box-sizing: border-box;margin-bottom: 0.5em;}#sk-container-id-1 div.sk-estimator:hover {background-color: #d4ebff;}#sk-container-id-1 div.sk-parallel-item::after {content: \"\";width: 100%;border-bottom: 1px solid gray;flex-grow: 1;}#sk-container-id-1 div.sk-label:hover label.sk-toggleable__label {background-color: #d4ebff;}#sk-container-id-1 div.sk-serial::before {content: \"\";position: absolute;border-left: 1px solid gray;box-sizing: border-box;top: 0;bottom: 0;left: 50%;z-index: 0;}#sk-container-id-1 div.sk-serial {display: flex;flex-direction: column;align-items: center;background-color: white;padding-right: 0.2em;padding-left: 0.2em;position: relative;}#sk-container-id-1 div.sk-item {position: relative;z-index: 1;}#sk-container-id-1 div.sk-parallel {display: flex;align-items: stretch;justify-content: center;background-color: white;position: relative;}#sk-container-id-1 div.sk-item::before, #sk-container-id-1 div.sk-parallel-item::before {content: \"\";position: absolute;border-left: 1px solid gray;box-sizing: border-box;top: 0;bottom: 0;left: 50%;z-index: -1;}#sk-container-id-1 div.sk-parallel-item {display: flex;flex-direction: column;z-index: 1;position: relative;background-color: white;}#sk-container-id-1 div.sk-parallel-item:first-child::after {align-self: flex-end;width: 50%;}#sk-container-id-1 div.sk-parallel-item:last-child::after {align-self: flex-start;width: 50%;}#sk-container-id-1 div.sk-parallel-item:only-child::after {width: 0;}#sk-container-id-1 div.sk-dashed-wrapped {border: 1px dashed gray;margin: 0 0.4em 0.5em 0.4em;box-sizing: border-box;padding-bottom: 0.4em;background-color: white;}#sk-container-id-1 div.sk-label label {font-family: monospace;font-weight: bold;display: inline-block;line-height: 1.2em;}#sk-container-id-1 div.sk-label-container {text-align: center;}#sk-container-id-1 div.sk-container {/* jupyter's `normalize.less` sets `[hidden] { display: none; }` but bootstrap.min.css set `[hidden] { display: none !important; }` so we also need the `!important` here to be able to override the default hidden behavior on the sphinx rendered scikit-learn.org. See: https://github.com/scikit-learn/scikit-learn/issues/21755 */display: inline-block !important;position: relative;}#sk-container-id-1 div.sk-text-repr-fallback {display: none;}</style><div id=\"sk-container-id-1\" class=\"sk-top-container\"><div class=\"sk-text-repr-fallback\"><pre>LinearRegression()</pre><b>In a Jupyter environment, please rerun this cell to show the HTML representation or trust the notebook. <br />On GitHub, the HTML representation is unable to render, please try loading this page with nbviewer.org.</b></div><div class=\"sk-container\" hidden><div class=\"sk-item\"><div class=\"sk-estimator sk-toggleable\"><input class=\"sk-toggleable__control sk-hidden--visually\" id=\"sk-estimator-id-1\" type=\"checkbox\" checked><label for=\"sk-estimator-id-1\" class=\"sk-toggleable__label sk-toggleable__label-arrow\">LinearRegression</label><div class=\"sk-toggleable__content\"><pre>LinearRegression()</pre></div></div></div></div></div>"
      ],
      "text/plain": [
       "LinearRegression()"
      ]
     },
     "execution_count": 28,
     "metadata": {},
     "output_type": "execute_result"
    }
   ],
   "source": [
    "LM.fit(x_train,y_train)"
   ]
  },
  {
   "cell_type": "code",
   "execution_count": 29,
   "id": "8863c0b2",
   "metadata": {
    "execution": {
     "iopub.execute_input": "2023-06-17T07:08:36.922528Z",
     "iopub.status.busy": "2023-06-17T07:08:36.921974Z",
     "iopub.status.idle": "2023-06-17T07:08:36.932691Z",
     "shell.execute_reply": "2023-06-17T07:08:36.931324Z"
    },
    "papermill": {
     "duration": 0.067695,
     "end_time": "2023-06-17T07:08:36.943189",
     "exception": false,
     "start_time": "2023-06-17T07:08:36.875494",
     "status": "completed"
    },
    "tags": []
   },
   "outputs": [],
   "source": [
    "predictions=LM.predict(x_test)"
   ]
  },
  {
   "cell_type": "code",
   "execution_count": 30,
   "id": "914a800e",
   "metadata": {
    "execution": {
     "iopub.execute_input": "2023-06-17T07:08:37.018173Z",
     "iopub.status.busy": "2023-06-17T07:08:37.017519Z",
     "iopub.status.idle": "2023-06-17T07:08:37.058998Z",
     "shell.execute_reply": "2023-06-17T07:08:37.057818Z"
    },
    "papermill": {
     "duration": 0.080919,
     "end_time": "2023-06-17T07:08:37.061834",
     "exception": false,
     "start_time": "2023-06-17T07:08:36.980915",
     "status": "completed"
    },
    "tags": []
   },
   "outputs": [],
   "source": [
    "test=scaler.fit_transform(ntest)"
   ]
  },
  {
   "cell_type": "code",
   "execution_count": 31,
   "id": "3b57ad92",
   "metadata": {
    "execution": {
     "iopub.execute_input": "2023-06-17T07:08:37.096563Z",
     "iopub.status.busy": "2023-06-17T07:08:37.095760Z",
     "iopub.status.idle": "2023-06-17T07:08:37.103780Z",
     "shell.execute_reply": "2023-06-17T07:08:37.102349Z"
    },
    "papermill": {
     "duration": 0.029419,
     "end_time": "2023-06-17T07:08:37.107550",
     "exception": false,
     "start_time": "2023-06-17T07:08:37.078131",
     "status": "completed"
    },
    "tags": []
   },
   "outputs": [],
   "source": [
    "new_pred=LM.predict(test)"
   ]
  },
  {
   "cell_type": "code",
   "execution_count": 32,
   "id": "dbcc0b5a",
   "metadata": {
    "execution": {
     "iopub.execute_input": "2023-06-17T07:08:37.177250Z",
     "iopub.status.busy": "2023-06-17T07:08:37.176896Z",
     "iopub.status.idle": "2023-06-17T07:08:37.184440Z",
     "shell.execute_reply": "2023-06-17T07:08:37.183326Z"
    },
    "papermill": {
     "duration": 0.046533,
     "end_time": "2023-06-17T07:08:37.188122",
     "exception": false,
     "start_time": "2023-06-17T07:08:37.141589",
     "status": "completed"
    },
    "tags": []
   },
   "outputs": [],
   "source": [
    "submission = pd.DataFrame({\"Place_ID X Date\": Test[\"Place_ID X Date\"],\"target\":new_pred})"
   ]
  },
  {
   "cell_type": "code",
   "execution_count": 33,
   "id": "7c410c27",
   "metadata": {
    "execution": {
     "iopub.execute_input": "2023-06-17T07:08:37.240870Z",
     "iopub.status.busy": "2023-06-17T07:08:37.240454Z",
     "iopub.status.idle": "2023-06-17T07:08:37.254034Z",
     "shell.execute_reply": "2023-06-17T07:08:37.252768Z"
    },
    "papermill": {
     "duration": 0.033982,
     "end_time": "2023-06-17T07:08:37.256595",
     "exception": false,
     "start_time": "2023-06-17T07:08:37.222613",
     "status": "completed"
    },
    "tags": []
   },
   "outputs": [
    {
     "data": {
      "text/html": [
       "<div>\n",
       "<style scoped>\n",
       "    .dataframe tbody tr th:only-of-type {\n",
       "        vertical-align: middle;\n",
       "    }\n",
       "\n",
       "    .dataframe tbody tr th {\n",
       "        vertical-align: top;\n",
       "    }\n",
       "\n",
       "    .dataframe thead th {\n",
       "        text-align: right;\n",
       "    }\n",
       "</style>\n",
       "<table border=\"1\" class=\"dataframe\">\n",
       "  <thead>\n",
       "    <tr style=\"text-align: right;\">\n",
       "      <th></th>\n",
       "      <th>Place_ID X Date</th>\n",
       "      <th>target</th>\n",
       "    </tr>\n",
       "  </thead>\n",
       "  <tbody>\n",
       "    <tr>\n",
       "      <th>0</th>\n",
       "      <td>0OS9LVX X 2020-01-02</td>\n",
       "      <td>13.213700</td>\n",
       "    </tr>\n",
       "    <tr>\n",
       "      <th>1</th>\n",
       "      <td>0OS9LVX X 2020-01-03</td>\n",
       "      <td>31.979886</td>\n",
       "    </tr>\n",
       "    <tr>\n",
       "      <th>2</th>\n",
       "      <td>0OS9LVX X 2020-01-04</td>\n",
       "      <td>14.221048</td>\n",
       "    </tr>\n",
       "    <tr>\n",
       "      <th>3</th>\n",
       "      <td>0OS9LVX X 2020-01-05</td>\n",
       "      <td>7.922063</td>\n",
       "    </tr>\n",
       "    <tr>\n",
       "      <th>4</th>\n",
       "      <td>0OS9LVX X 2020-01-06</td>\n",
       "      <td>60.380084</td>\n",
       "    </tr>\n",
       "    <tr>\n",
       "      <th>...</th>\n",
       "      <td>...</td>\n",
       "      <td>...</td>\n",
       "    </tr>\n",
       "    <tr>\n",
       "      <th>16131</th>\n",
       "      <td>ZZDJZMS X 2020-03-31</td>\n",
       "      <td>28.789939</td>\n",
       "    </tr>\n",
       "    <tr>\n",
       "      <th>16132</th>\n",
       "      <td>ZZDJZMS X 2020-04-01</td>\n",
       "      <td>35.746748</td>\n",
       "    </tr>\n",
       "    <tr>\n",
       "      <th>16133</th>\n",
       "      <td>ZZDJZMS X 2020-04-02</td>\n",
       "      <td>19.732651</td>\n",
       "    </tr>\n",
       "    <tr>\n",
       "      <th>16134</th>\n",
       "      <td>ZZDJZMS X 2020-04-03</td>\n",
       "      <td>14.075445</td>\n",
       "    </tr>\n",
       "    <tr>\n",
       "      <th>16135</th>\n",
       "      <td>ZZDJZMS X 2020-04-04</td>\n",
       "      <td>36.622349</td>\n",
       "    </tr>\n",
       "  </tbody>\n",
       "</table>\n",
       "<p>16136 rows × 2 columns</p>\n",
       "</div>"
      ],
      "text/plain": [
       "            Place_ID X Date     target\n",
       "0      0OS9LVX X 2020-01-02  13.213700\n",
       "1      0OS9LVX X 2020-01-03  31.979886\n",
       "2      0OS9LVX X 2020-01-04  14.221048\n",
       "3      0OS9LVX X 2020-01-05   7.922063\n",
       "4      0OS9LVX X 2020-01-06  60.380084\n",
       "...                     ...        ...\n",
       "16131  ZZDJZMS X 2020-03-31  28.789939\n",
       "16132  ZZDJZMS X 2020-04-01  35.746748\n",
       "16133  ZZDJZMS X 2020-04-02  19.732651\n",
       "16134  ZZDJZMS X 2020-04-03  14.075445\n",
       "16135  ZZDJZMS X 2020-04-04  36.622349\n",
       "\n",
       "[16136 rows x 2 columns]"
      ]
     },
     "execution_count": 33,
     "metadata": {},
     "output_type": "execute_result"
    }
   ],
   "source": [
    "submission"
   ]
  },
  {
   "cell_type": "code",
   "execution_count": 34,
   "id": "3a5c6567",
   "metadata": {
    "execution": {
     "iopub.execute_input": "2023-06-17T07:08:37.292243Z",
     "iopub.status.busy": "2023-06-17T07:08:37.291865Z",
     "iopub.status.idle": "2023-06-17T07:08:37.378634Z",
     "shell.execute_reply": "2023-06-17T07:08:37.377473Z"
    },
    "papermill": {
     "duration": 0.108371,
     "end_time": "2023-06-17T07:08:37.381514",
     "exception": false,
     "start_time": "2023-06-17T07:08:37.273143",
     "status": "completed"
    },
    "tags": []
   },
   "outputs": [],
   "source": [
    "submission.to_csv('urban_predictions.csv', index = False)"
   ]
  },
  {
   "cell_type": "code",
   "execution_count": null,
   "id": "37f1c4ed",
   "metadata": {
    "papermill": {
     "duration": 0.016161,
     "end_time": "2023-06-17T07:08:37.414246",
     "exception": false,
     "start_time": "2023-06-17T07:08:37.398085",
     "status": "completed"
    },
    "tags": []
   },
   "outputs": [],
   "source": []
  }
 ],
 "metadata": {
  "kernelspec": {
   "display_name": "Python 3",
   "language": "python",
   "name": "python3"
  },
  "language_info": {
   "codemirror_mode": {
    "name": "ipython",
    "version": 3
   },
   "file_extension": ".py",
   "mimetype": "text/x-python",
   "name": "python",
   "nbconvert_exporter": "python",
   "pygments_lexer": "ipython3",
   "version": "3.10.10"
  },
  "papermill": {
   "default_parameters": {},
   "duration": 20.57475,
   "end_time": "2023-06-17T07:08:38.453641",
   "environment_variables": {},
   "exception": null,
   "input_path": "__notebook__.ipynb",
   "output_path": "__notebook__.ipynb",
   "parameters": {},
   "start_time": "2023-06-17T07:08:17.878891",
   "version": "2.4.0"
  }
 },
 "nbformat": 4,
 "nbformat_minor": 5
}
